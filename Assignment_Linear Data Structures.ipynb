{
 "cells": [
  {
   "cell_type": "markdown",
   "id": "327cb667",
   "metadata": {},
   "source": [
    "# Q1. Write a program to find all pairs of an integer array whose sum is equal to a given number?"
   ]
  },
  {
   "cell_type": "code",
   "execution_count": 2,
   "id": "64504b2c",
   "metadata": {},
   "outputs": [
    {
     "name": "stdout",
     "output_type": "stream",
     "text": [
      "Given Number is: 4\n",
      "1,3\n",
      "2,2\n",
      "3,1\n"
     ]
    }
   ],
   "source": [
    "import array as arr\n",
    "\n",
    "my_arr=arr.array('i',[1,2,3,4,5,6,7,8,9])\n",
    "a=int(input('Given Number is: '))\n",
    "\n",
    "for i in my_arr:\n",
    "    for j in my_arr:\n",
    "        if i+j==a:\n",
    "            print('{},{}'.format(i,j))\n",
    "        "
   ]
  },
  {
   "cell_type": "markdown",
   "id": "3d06f3c1",
   "metadata": {},
   "source": [
    "# Q2. Write a program to reverse an array in place? In place means you cannot create a new array. You have to update the original array."
   ]
  },
  {
   "cell_type": "code",
   "execution_count": 10,
   "id": "e3cbb5f0",
   "metadata": {},
   "outputs": [
    {
     "data": {
      "text/plain": [
       "array('i', [9, 8, 7, 6, 5, 4, 3, 2, 1])"
      ]
     },
     "execution_count": 10,
     "metadata": {},
     "output_type": "execute_result"
    }
   ],
   "source": [
    "import array as arr\n",
    "\n",
    "my_arr=arr.array('i',[1,2,3,4,5,6,7,8,9])\n",
    "my_arr=my_arr[::-1]\n",
    "my_arr"
   ]
  },
  {
   "cell_type": "markdown",
   "id": "b631fa6c",
   "metadata": {},
   "source": [
    "# Q3. Write a program to check if two strings are a rotation of each other?"
   ]
  },
  {
   "cell_type": "code",
   "execution_count": 12,
   "id": "75f107f2",
   "metadata": {},
   "outputs": [
    {
     "name": "stdout",
     "output_type": "stream",
     "text": [
      "first string is: anita\n",
      "second string is: atina\n",
      "Two strings are rotation of each other.\n"
     ]
    }
   ],
   "source": [
    "s=input('first string is: ')\n",
    "p=input('second string is: ')\n",
    "\n",
    "if s==p[::-1]:\n",
    "    print('Two strings are rotation of each other.')\n",
    "\n"
   ]
  },
  {
   "cell_type": "markdown",
   "id": "570f8c93",
   "metadata": {},
   "source": [
    "# Q4. Write a program to print the first non-repeated character from a string?"
   ]
  },
  {
   "cell_type": "code",
   "execution_count": 13,
   "id": "9730163a",
   "metadata": {},
   "outputs": [
    {
     "name": "stdout",
     "output_type": "stream",
     "text": [
      "first string is: edyoda\n",
      "['e', 'd', 'y', 'o', 'a']\n"
     ]
    }
   ],
   "source": [
    "s=input('first string is: ')\n",
    "b=[]\n",
    "\n",
    "for i in s:\n",
    "    if i not in b:\n",
    "        b.append(i)\n",
    "print(b)"
   ]
  },
  {
   "cell_type": "markdown",
   "id": "307c981c",
   "metadata": {},
   "source": [
    "# Q5. Read about the Tower of Hanoi algorithm. Write a program to implement it."
   ]
  },
  {
   "cell_type": "code",
   "execution_count": 3,
   "id": "c7890323",
   "metadata": {},
   "outputs": [
    {
     "name": "stdout",
     "output_type": "stream",
     "text": [
      "Enter the number of disks: 3\n",
      "Move disk 1 from rod A to rod C.\n",
      "Move disk 2 from rod A to rod B.\n",
      "Move disk 1 from rod C to rod B.\n",
      "Move disk 3 from rod A to rod C.\n",
      "Move disk 1 from rod B to rod A.\n",
      "Move disk 2 from rod B to rod C.\n",
      "Move disk 1 from rod A to rod C.\n"
     ]
    }
   ],
   "source": [
    " def tower_of_hanoi(disks, source, auxiliary, target):  \n",
    "    if(disks == 1):  \n",
    "        print('Move disk 1 from rod {} to rod {}.'.format(source, target))  \n",
    "        return  \n",
    "    \n",
    "    tower_of_hanoi(disks - 1, source, target, auxiliary)  \n",
    "    print('Move disk {} from rod {} to rod {}.'.format(disks, source, target))  \n",
    "    tower_of_hanoi(disks - 1, auxiliary, source, target)  \n",
    "  \n",
    "  \n",
    "disks = int(input('Enter the number of disks: '))  \n",
    "  \n",
    "tower_of_hanoi(disks, 'A', 'B', 'C') "
   ]
  },
  {
   "cell_type": "markdown",
   "id": "4057b208",
   "metadata": {},
   "source": [
    "# Q6. Read about infix, prefix, and postfix expressions. Write a program to convert postfix to prefix expression."
   ]
  },
  {
   "cell_type": "code",
   "execution_count": 9,
   "id": "e29e6c70",
   "metadata": {},
   "outputs": [
    {
     "name": "stdout",
     "output_type": "stream",
     "text": [
      "*-A/BC-/AKL\n"
     ]
    }
   ],
   "source": [
    "class conversion:\n",
    "    def __init__(self):\n",
    "        self.output=[]\n",
    "    \n",
    "    def isoperand(self,i):\n",
    "        return i.isalpha()\n",
    "    \n",
    "    def mainfunction(self,text):\n",
    "        for i in text:\n",
    "            if self.isoperand(i):\n",
    "                self.output.append(i)\n",
    "            elif i in ['+','-','*','/','^']:\n",
    "                n= self.output.pop()\n",
    "                o=self.output.pop()\n",
    "                p=i+o+n\n",
    "                self.output.append(p) \n",
    "                \n",
    "        print(\"\".join(self.output))\n",
    " \n",
    "# Driver program to test above function\n",
    "exp = 'ABC/-AK/L-*'\n",
    "obj = conversion()\n",
    "obj.mainfunction(exp)\n",
    " \n",
    "  "
   ]
  },
  {
   "cell_type": "markdown",
   "id": "c358f3e9",
   "metadata": {},
   "source": [
    "## Infix to Prefix"
   ]
  },
  {
   "cell_type": "code",
   "execution_count": 5,
   "id": "a4975997",
   "metadata": {},
   "outputs": [
    {
     "name": "stdout",
     "output_type": "stream",
     "text": [
      "enter the expression a+b\n",
      "the prefix expr of : a+b is +ab\n"
     ]
    }
   ],
   "source": [
    "class infix_to_prefix:\n",
    "    precedence={'^':5,'*':4,'/':4,'+':3,'-':3,'(':2,')':1}\n",
    "    def __init__(self):\n",
    "        self.items=[]\n",
    "        self.size=-1\n",
    "    def push(self,value):\n",
    "        self.items.append(value)\n",
    "        self.size+=1\n",
    "    def pop(self):\n",
    "        if self.isempty():\n",
    "            return 0\n",
    "        else:\n",
    "            self.size-=1\n",
    "            return self.items.pop()\n",
    "    def isempty(self):\n",
    "        if(self.size==-1):\n",
    "            return True\n",
    "        else:\n",
    "            return False\n",
    "    def seek(self):\n",
    "        if self.isempty():\n",
    "            return False\n",
    "        else:\n",
    "            return self.items[self.size]\n",
    "    def is0perand(self,i):\n",
    "        if i.isalpha() or i in '1234567890':\n",
    "            return True\n",
    "        else:\n",
    "            return False\n",
    "    def reverse(self,expr):\n",
    "        rev=\"\"\n",
    "        for i in expr:\n",
    "            if i == '(':\n",
    "                i=')'\n",
    "            elif i == ')':\n",
    "                i='('\n",
    "            rev=i+rev\n",
    "        return rev\n",
    "    def infixtoprefix (self,expr):\n",
    "        prefix=\"\"\n",
    "        ##print('prefix expression after every iteration is:')\n",
    "        for i in expr:\n",
    "            if(len(expr)%2==0):\n",
    "                print(\"Incorrect infix expr\")\n",
    "                return False\n",
    "            elif(self.is0perand(i)):\n",
    "                prefix +=i\n",
    "            elif(i in '+-*/^'):\n",
    "                while(len(self.items)and self.precedence[i] < self.precedence[self.seek()]):\n",
    "                    prefix+=self.pop()\n",
    "                self.push(i)\n",
    "            elif i == '(':\n",
    "                self.push(i)\n",
    "            elif i == ')':\n",
    "                o=self.pop()\n",
    "                while o!='(':\n",
    "                    prefix +=o\n",
    "                    o=self.pop()\n",
    "        ##print(prefix)\n",
    "                #end of for\n",
    "        while len(self.items):\n",
    "            if(self.seek()=='('):\n",
    "                self.pop()\n",
    "            else:\n",
    "                prefix+=self.pop()\n",
    "                ##print(prefix)\n",
    "        return prefix\n",
    "s=infix_to_prefix()\n",
    "expr=input('enter the expression ')\n",
    "rev=\"\"\n",
    "rev=s.reverse(expr)\n",
    "#print(rev)\n",
    "result=s.infixtoprefix(rev)\n",
    "if (result!=False):\n",
    "    \n",
    "    prefix=s.reverse(result)\n",
    "    print(\"the prefix expr of :\",expr,\"is\",prefix)\n"
   ]
  },
  {
   "cell_type": "markdown",
   "id": "c5252df2",
   "metadata": {},
   "source": [
    "## Infix to Postfix"
   ]
  },
  {
   "cell_type": "code",
   "execution_count": 7,
   "id": "e93515b0",
   "metadata": {},
   "outputs": [
    {
     "name": "stdout",
     "output_type": "stream",
     "text": [
      "abcd^e-fgh*+^*+i-\n"
     ]
    }
   ],
   "source": [
    "class Conversion:\n",
    "     \n",
    "    # Constructor to initialize the class variables\n",
    "    def __init__(self, capacity):\n",
    "        self.top = -1\n",
    "        self.capacity = capacity\n",
    "        # This array is used a stack\n",
    "        self.array = []\n",
    "        # Precedence setting\n",
    "        self.output = []\n",
    "        self.precedence = {'+':1, '-':1, '*':2, '/':2, '^':3}\n",
    "     \n",
    "    # check if the stack is empty\n",
    "    def isEmpty(self):\n",
    "        return True if self.top == -1 else False\n",
    "     \n",
    "    # Return the value of the top of the stack\n",
    "    def peek(self):\n",
    "        return self.array[-1]\n",
    "     \n",
    "    # Pop the element from the stack\n",
    "    def pop(self):\n",
    "        if not self.isEmpty():\n",
    "            self.top -= 1\n",
    "            return self.array.pop()\n",
    "        else:\n",
    "            return \"$\"\n",
    "     \n",
    "    # Push the element to the stack\n",
    "    def push(self, op):\n",
    "        self.top += 1\n",
    "        self.array.append(op)\n",
    " \n",
    "    # A utility function to check is the given character\n",
    "    # is operand\n",
    "    def isOperand(self, ch):\n",
    "        return ch.isalpha()\n",
    " \n",
    "    # Check if the precedence of operator is strictly\n",
    "    # less than top of stack or not\n",
    "    def notGreater(self, i):\n",
    "        try:\n",
    "            a = self.precedence[i]\n",
    "            b = self.precedence[self.peek()]\n",
    "            return True if a  <= b else False\n",
    "        except KeyError:\n",
    "            return False\n",
    "             \n",
    "    # The main function that\n",
    "    # converts given infix expression\n",
    "    # to postfix expression\n",
    "    def infixToPostfix(self, exp):\n",
    "         \n",
    "        # Iterate over the expression for conversion\n",
    "        for i in exp:\n",
    "            # If the character is an operand,\n",
    "            # add it to output\n",
    "            if self.isOperand(i):\n",
    "                self.output.append(i)\n",
    "             \n",
    "            # If the character is an '(', push it to stack\n",
    "            elif i  == '(':\n",
    "                self.push(i)\n",
    " \n",
    "            # If the scanned character is an ')', pop and\n",
    "            # output from the stack until and '(' is found\n",
    "            elif i == ')':\n",
    "                while( (not self.isEmpty()) and\n",
    "                                self.peek() != '('):\n",
    "                    a = self.pop()\n",
    "                    self.output.append(a)\n",
    "                if (not self.isEmpty() and self.peek() != '('):\n",
    "                    return -1\n",
    "                else:\n",
    "                    self.pop()\n",
    " \n",
    "            # An operator is encountered\n",
    "            else:\n",
    "                while(not self.isEmpty() and self.notGreater(i)):\n",
    "                    self.output.append(self.pop())\n",
    "                self.push(i)\n",
    " \n",
    "        # pop all the operator from the stack\n",
    "        while not self.isEmpty():\n",
    "            self.output.append(self.pop())\n",
    " \n",
    "        print(\"\".join(self.output))\n",
    " \n",
    "# Driver program to test above function\n",
    "exp = \"a+b*(c^d-e)^(f+g*h)-i\"\n",
    "obj = Conversion(len(exp))\n",
    "obj.infixToPostfix(exp)"
   ]
  },
  {
   "cell_type": "markdown",
   "id": "0c5a6e25",
   "metadata": {},
   "source": [
    "## Postfix to infix"
   ]
  },
  {
   "cell_type": "code",
   "execution_count": 8,
   "id": "0689b653",
   "metadata": {},
   "outputs": [
    {
     "name": "stdout",
     "output_type": "stream",
     "text": [
      "((a*b)+c)\n"
     ]
    }
   ],
   "source": [
    "def isOperand(x):\n",
    "    return ((x >= 'a' and x <= 'z') or\n",
    "            (x >= 'A' and x <= 'Z'))\n",
    " \n",
    "# Get Infix for a given postfix\n",
    "# expression\n",
    "def getInfix(exp) :\n",
    " \n",
    "    s = []\n",
    " \n",
    "    for i in exp:    \n",
    "         \n",
    "        # Push operands\n",
    "        if (isOperand(i)) :        \n",
    "            s.insert(0, i)\n",
    "             \n",
    "        # We assume that input is a\n",
    "        # valid postfix and expect\n",
    "        # an operator.\n",
    "        else:\n",
    "         \n",
    "            op1 = s[0]\n",
    "            s.pop(0)\n",
    "            op2 = s[0]\n",
    "            s.pop(0)\n",
    "            s.insert(0, \"(\" + op2 + i +\n",
    "                             op1 + \")\")\n",
    "             \n",
    "    # There must be a single element in\n",
    "    # stack now which is the required\n",
    "    # infix.\n",
    "    return s[0]\n",
    " \n",
    "# Driver Code\n",
    "if __name__ == '__main__':\n",
    " \n",
    "    exp = \"ab*c+\"\n",
    "    print(getInfix(exp.strip()))"
   ]
  },
  {
   "cell_type": "markdown",
   "id": "40c45309",
   "metadata": {},
   "source": [
    "## Prefix To Postfix"
   ]
  },
  {
   "cell_type": "code",
   "execution_count": 9,
   "id": "36de9355",
   "metadata": {},
   "outputs": [
    {
     "name": "stdout",
     "output_type": "stream",
     "text": [
      "ABC/-AK/L-*\n"
     ]
    }
   ],
   "source": [
    "s = \"*-A/BC-/AKL\"\n",
    " \n",
    "# Stack for storing operands\n",
    "stack = []\n",
    " \n",
    "operators = set(['+', '-', '*', '/', '^'])\n",
    " \n",
    "# Reversing the order\n",
    "s = s[::-1]\n",
    " \n",
    "# iterating through individual tokens\n",
    "for i in s:\n",
    " \n",
    "    # if token is operator\n",
    "    if i in operators:\n",
    " \n",
    "        # pop 2 elements from stack\n",
    "        a = stack.pop()\n",
    "        b = stack.pop()\n",
    " \n",
    "        # concatenate them as operand1 +\n",
    "        # operand2 + operator\n",
    "        temp = a+b+i\n",
    "        stack.append(temp)\n",
    " \n",
    "    # else if operand\n",
    "    else:\n",
    "        stack.append(i)\n",
    " \n",
    "# printing final output\n",
    "print(*stack)"
   ]
  },
  {
   "cell_type": "markdown",
   "id": "1584613c",
   "metadata": {},
   "source": [
    "# Q7. Write a program to convert prefix expression to infix expression."
   ]
  },
  {
   "cell_type": "code",
   "execution_count": 12,
   "id": "e3ae2118",
   "metadata": {},
   "outputs": [
    {
     "name": "stdout",
     "output_type": "stream",
     "text": [
      "A+B*C-D\n"
     ]
    }
   ],
   "source": [
    "class conversion:\n",
    "    def __init__(self):\n",
    "        self.output=[]\n",
    "    \n",
    "    def isoperand(self,i):\n",
    "        return i.isalpha()\n",
    "    \n",
    "    def mainfunction(self,text):\n",
    "        rtext=text[::-1]\n",
    "        for i in rtext:\n",
    "            if self.isoperand(i):\n",
    "                self.output.append(i)\n",
    "            elif i in ['+','-','*','/','^']:\n",
    "                n= self.output.pop()\n",
    "                o=self.output.pop()\n",
    "                p=n+i+o\n",
    "                self.output.append(p) \n",
    "                \n",
    "        print(\"\".join(self.output))\n",
    " \n",
    "# Driver program to test above function\n",
    "exp = '*+AB-CD'\n",
    "obj = conversion()\n",
    "obj.mainfunction(exp)\n",
    " \n",
    "  "
   ]
  },
  {
   "cell_type": "markdown",
   "id": "40182359",
   "metadata": {},
   "source": [
    "# Q8. Write a program to check if all the brackets are closed in a given code snippet."
   ]
  },
  {
   "cell_type": "code",
   "execution_count": 16,
   "id": "fb0589a3",
   "metadata": {},
   "outputs": [
    {
     "name": "stdout",
     "output_type": "stream",
     "text": [
      "Balanced\n"
     ]
    }
   ],
   "source": [
    " \n",
    "def areBracketsBalanced(expr):\n",
    "    stack = []\n",
    "    for char in expr:\n",
    "        if char in [\"(\", \"{\", \"[\"]:\n",
    "            stack.append(char)\n",
    "        else:\n",
    "            if not stack:\n",
    "                return False\n",
    "            current_char = stack.pop()\n",
    "            if current_char == '(':\n",
    "                if char != \")\":\n",
    "                    return False\n",
    "            if current_char == '{':\n",
    "                if char != \"}\":\n",
    "                    return False\n",
    "            if current_char == '[':\n",
    "                if char != \"]\":\n",
    "                    return False\n",
    "    if stack:\n",
    "        return False\n",
    "    return True\n",
    " \n",
    "if __name__ == \"__main__\":\n",
    "    expr = \"{()[]}\"\n",
    "    \n",
    "    if areBracketsBalanced(expr):\n",
    "        print(\"Balanced\")\n",
    "    else:\n",
    "        print(\"Not Balanced\")"
   ]
  },
  {
   "cell_type": "code",
   "execution_count": 1,
   "id": "bf57d7b3",
   "metadata": {},
   "outputs": [
    {
     "name": "stdout",
     "output_type": "stream",
     "text": [
      "Balanced\n"
     ]
    }
   ],
   "source": [
    "openList = [\"[\", \"{\", \"(\"]\n",
    "closeList = [\"]\", \"}\", \")\"]\n",
    "\n",
    "\n",
    "def balance(myStr):\n",
    "    stack = []\n",
    "    for i in myStr:\n",
    "        if i in openList:\n",
    "            stack.append(i)\n",
    "        elif i in closeList:\n",
    "            pos = closeList.index(i)\n",
    "            if (len(stack) > 0) and (openList[pos] == stack[len(stack) - 1]):\n",
    "                stack.pop()\n",
    "            else:\n",
    "                return \"Unbalanced\"\n",
    "    if len(stack) == 0:\n",
    "        return \"Balanced\"\n",
    "\n",
    "\n",
    "print(balance(\"{[()](){}}\"))"
   ]
  },
  {
   "cell_type": "markdown",
   "id": "adfc1203",
   "metadata": {},
   "source": [
    "# Q9. Write a program to reverse a stack."
   ]
  },
  {
   "cell_type": "code",
   "execution_count": 14,
   "id": "eff11089",
   "metadata": {},
   "outputs": [
    {
     "name": "stdout",
     "output_type": "stream",
     "text": [
      "[5, 4, 3, 2, 1]\n"
     ]
    }
   ],
   "source": [
    "class stack:\n",
    "    def __init__(self,straight):\n",
    "        self.straight=straight\n",
    "        self.reverse=[]\n",
    "    def rev(self):\n",
    "        for i in range(len(self.straight)):\n",
    "            k=self.straight.pop()\n",
    "            self.reverse.append(k)\n",
    "        print(self.reverse)\n",
    "        \n",
    "stack1=stack([1,2,3,4,5])\n",
    "stack1.rev()\n",
    "    "
   ]
  },
  {
   "cell_type": "markdown",
   "id": "5f232812",
   "metadata": {},
   "source": [
    "# Q10. Write a program to find the smallest number using a stack.\n",
    "\n"
   ]
  },
  {
   "cell_type": "code",
   "execution_count": 4,
   "id": "e425d6c8",
   "metadata": {},
   "outputs": [
    {
     "name": "stdout",
     "output_type": "stream",
     "text": [
      "Element: 1 pushed in the stack\n",
      "Normal Stack\n",
      "|1|\n",
      "Max Stack\n",
      "|1|\n",
      "Element: 0 pushed in the stack\n",
      "Normal Stack\n",
      "|0|\n",
      "|1|\n",
      "Max Stack\n",
      "|0|\n",
      "|1|\n",
      "Element: 5 pushed in the stack\n",
      "Normal Stack\n",
      "|5|\n",
      "|0|\n",
      "|1|\n",
      "Max Stack\n",
      "|0|\n",
      "|1|\n",
      "Minium is:  0\n"
     ]
    }
   ],
   "source": [
    "class Stack:\n",
    "    \n",
    "    def __init__(self):\n",
    "        self.stack = []\n",
    "        self.min_stack = []\n",
    "        \n",
    "    def push(self, element):\n",
    "        self.stack.append(element)\n",
    "        if len(self.min_stack) == 0:\n",
    "            self.min_stack.append(element)\n",
    "        elif self.min_stack[-1] >= element:\n",
    "            self.min_stack.append(element)\n",
    "        \n",
    "        print(f\"Element: {element} pushed in the stack\")\n",
    "    def is_empty(self):\n",
    "#         return len(self.stack) == 0\n",
    "        if len(self.stack) == 0:\n",
    "            print(\"stack is empty\")\n",
    "        else:\n",
    "            print(\"stack is not empty\")\n",
    "    \n",
    "    def pop(self):\n",
    "        if len(self.stack) == 0:\n",
    "            print(\"POP can't be performed on empty stack\")\n",
    "        else:\n",
    "            poped_element = self.stack.pop()\n",
    "            if self.min_stack[-1] == poped_element:\n",
    "                self.min_stack.pop()\n",
    "            print(f\"Poped: {poped_element} from the stack\")\n",
    "        \n",
    "            \n",
    "    def size(self):\n",
    "        print(\"The size of stack is: \",len(self.stack))\n",
    "    \n",
    "    def display_normal_stack(self):\n",
    "        print(\"Normal Stack\")\n",
    "        for i in self.stack[::-1]:\n",
    "            print(f\"|{i}|\")\n",
    "            \n",
    "    def display_min_stack(self):\n",
    "        print(\"Max Stack\")\n",
    "        for i in self.min_stack[::-1]:\n",
    "            print(f\"|{i}|\")\n",
    "            \n",
    "    def peek(self):\n",
    "        if len(self.stack) == 0:\n",
    "            print(\"Peek can't be performed on empty stack\")\n",
    "        else:\n",
    "             print(f\"Top element is: {self.stack[-1]}\")\n",
    "        \n",
    "    def get_min(self):\n",
    "        print(\"Minium is: \",self.min_stack[-1])\n",
    "        \n",
    "my_stack = Stack()\n",
    "my_stack.push(1)\n",
    "my_stack.display_normal_stack()\n",
    "my_stack.display_min_stack()\n",
    "my_stack.push(0)\n",
    "my_stack.display_normal_stack()\n",
    "my_stack.display_min_stack()\n",
    "my_stack.push(5)\n",
    "my_stack.display_normal_stack()\n",
    "my_stack.display_min_stack()\n",
    "my_stack.get_min()        \n"
   ]
  },
  {
   "cell_type": "code",
   "execution_count": 1,
   "id": "64de2ffb",
   "metadata": {},
   "outputs": [
    {
     "name": "stdout",
     "output_type": "stream",
     "text": [
      "Element is present at index 1\n"
     ]
    }
   ],
   "source": [
    "# Binary Search in python\n",
    "\n",
    "\n",
    "def binarySearch(array, x, low, high):\n",
    "\n",
    "    # Repeat until the pointers low and high meet each other\n",
    "    while low <= high:\n",
    "\n",
    "        mid = low + (high - low)//2\n",
    "\n",
    "        if array[mid] == x:\n",
    "            return mid\n",
    "\n",
    "        elif array[mid] < x:\n",
    "            low = mid + 1\n",
    "\n",
    "        else:\n",
    "            high = mid - 1\n",
    "\n",
    "    return -1\n",
    "\n",
    "\n",
    "array = [3, 4, 5, 6, 7, 8, 9]\n",
    "x = 4\n",
    "\n",
    "result = binarySearch(array, x, 0, len(array)-1)\n",
    "\n",
    "if result != -1:\n",
    "    print(\"Element is present at index \" + str(result))\n",
    "else:\n",
    "    print(\"Not found\")"
   ]
  },
  {
   "cell_type": "markdown",
   "id": "f8747c9c",
   "metadata": {},
   "source": [
    "## Evaluation of Prefix Expressions"
   ]
  },
  {
   "cell_type": "code",
   "execution_count": 11,
   "id": "8064ca7f",
   "metadata": {},
   "outputs": [
    {
     "name": "stdout",
     "output_type": "stream",
     "text": [
      "21\n"
     ]
    }
   ],
   "source": [
    "def is_operand(c):\n",
    "    \"\"\"\n",
    "    Return True if the given char c is an operand, e.g. it is a number\n",
    "    \"\"\"\n",
    "    return c.isdigit()\n",
    " \n",
    " \n",
    "def evaluate(expression):\n",
    "    \"\"\"\n",
    "    Evaluate a given expression in prefix notation.\n",
    "    Asserts that the given expression is valid.\n",
    "    \"\"\"\n",
    "    stack = []\n",
    " \n",
    "    # iterate over the string in reverse order\n",
    "    for c in expression[::-1]:\n",
    " \n",
    "        # push operand to stack\n",
    "        if is_operand(c):\n",
    "            stack.append(int(c))\n",
    " \n",
    "        else:\n",
    "            # pop values from stack can calculate the result\n",
    "            # push the result onto the stack again\n",
    "            o1 = stack.pop()\n",
    "            o2 = stack.pop()\n",
    " \n",
    "            if c == '+':\n",
    "                stack.append(o1 + o2)\n",
    " \n",
    "            elif c == '-':\n",
    "                stack.append(o1 - o2)\n",
    " \n",
    "            elif c == '*':\n",
    "                stack.append(o1 * o2)\n",
    " \n",
    "            elif c == '/':\n",
    "                stack.append(o1 / o2)\n",
    " \n",
    "    return stack.pop()\n",
    " \n",
    " \n",
    "# Driver code\n",
    "if __name__ == \"__main__\":\n",
    "    test_expression = \"+9*26\"\n",
    "    print(evaluate(test_expression))"
   ]
  },
  {
   "cell_type": "markdown",
   "id": "fefc69c8",
   "metadata": {},
   "source": [
    "## Evaluation of Postfix expression"
   ]
  },
  {
   "cell_type": "code",
   "execution_count": 1,
   "id": "40c5e5a1",
   "metadata": {},
   "outputs": [
    {
     "name": "stdout",
     "output_type": "stream",
     "text": [
      "23\n"
     ]
    }
   ],
   "source": [
    "def postfix_evaluation(s):\n",
    "\n",
    "    s=s.split()\n",
    "\n",
    "    n=len(s)\n",
    "\n",
    "    stack =[]\n",
    "\n",
    "    for i in range(n):\n",
    "\n",
    "        if s[i].isdigit():\n",
    "\n",
    "          #append function is equivalent to push\n",
    "\n",
    "            stack.append(int(s[i]))\n",
    "\n",
    "        elif s[i]==\"+\":\n",
    "\n",
    "            a=stack.pop()\n",
    "\n",
    "            b=stack.pop()\n",
    "\n",
    "            stack.append(int(a)+int(b))\n",
    "\n",
    "        elif s[i]==\"*\":\n",
    "\n",
    "            a=stack.pop()\n",
    "\n",
    "            b=stack.pop()\n",
    "\n",
    "            stack.append(int(a)*int(b))\n",
    "\n",
    "        elif s[i]==\"/\":\n",
    "\n",
    "            a=stack.pop()\n",
    "\n",
    "            b=stack.pop()\n",
    "\n",
    "            stack.append(int(b)/int(a))\n",
    "\n",
    "        elif s[i]==\"-\":\n",
    "\n",
    "            a=stack.pop()\n",
    "\n",
    "            b=stack.pop()\n",
    "\n",
    "            stack.append(int(b)-int(a))            \n",
    "\n",
    "    return stack.pop()\n",
    "\n",
    "#space separtor is required , for solving 2 or more digits .\n",
    "\n",
    "s=\"10 2 8 * + 3 -\"\n",
    "\n",
    "val=postfix_evaluation(s)\n",
    "\n",
    "print(val)"
   ]
  },
  {
   "cell_type": "code",
   "execution_count": null,
   "id": "dbbf674e",
   "metadata": {},
   "outputs": [],
   "source": []
  }
 ],
 "metadata": {
  "kernelspec": {
   "display_name": "Python 3",
   "language": "python",
   "name": "python3"
  },
  "language_info": {
   "codemirror_mode": {
    "name": "ipython",
    "version": 3
   },
   "file_extension": ".py",
   "mimetype": "text/x-python",
   "name": "python",
   "nbconvert_exporter": "python",
   "pygments_lexer": "ipython3",
   "version": "3.8.8"
  }
 },
 "nbformat": 4,
 "nbformat_minor": 5
}
