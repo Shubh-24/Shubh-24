{
 "cells": [
  {
   "cell_type": "markdown",
   "id": "327cb667",
   "metadata": {},
   "source": [
    "# Q1. Write a program to find all pairs of an integer array whose sum is equal to a given number?"
   ]
  },
  {
   "cell_type": "code",
   "execution_count": 2,
   "id": "64504b2c",
   "metadata": {},
   "outputs": [
    {
     "name": "stdout",
     "output_type": "stream",
     "text": [
      "Given Number is: 4\n",
      "1,3\n",
      "2,2\n",
      "3,1\n"
     ]
    }
   ],
   "source": [
    "import array as arr\n",
    "\n",
    "my_arr=arr.array('i',[1,2,3,4,5,6,7,8,9])\n",
    "a=int(input('Given Number is: '))\n",
    "\n",
    "for i in my_arr:\n",
    "    for j in my_arr:\n",
    "        if i+j==a:\n",
    "            print('{},{}'.format(i,j))\n",
    "        "
   ]
  },
  {
   "cell_type": "markdown",
   "id": "3d06f3c1",
   "metadata": {},
   "source": [
    "# Q2. Write a program to reverse an array in place? In place means you cannot create a new array. You have to update the original array."
   ]
  },
  {
   "cell_type": "code",
   "execution_count": 10,
   "id": "e3cbb5f0",
   "metadata": {},
   "outputs": [
    {
     "data": {
      "text/plain": [
       "array('i', [9, 8, 7, 6, 5, 4, 3, 2, 1])"
      ]
     },
     "execution_count": 10,
     "metadata": {},
     "output_type": "execute_result"
    }
   ],
   "source": [
    "import array as arr\n",
    "\n",
    "my_arr=arr.array('i',[1,2,3,4,5,6,7,8,9])\n",
    "my_arr=my_arr[::-1]\n",
    "my_arr"
   ]
  },
  {
   "cell_type": "markdown",
   "id": "b631fa6c",
   "metadata": {},
   "source": [
    "# Q3. Write a program to check if two strings are a rotation of each other?"
   ]
  },
  {
   "cell_type": "code",
   "execution_count": 12,
   "id": "75f107f2",
   "metadata": {},
   "outputs": [
    {
     "name": "stdout",
     "output_type": "stream",
     "text": [
      "first string is: anita\n",
      "second string is: atina\n",
      "Two strings are rotation of each other.\n"
     ]
    }
   ],
   "source": [
    "s=input('first string is: ')\n",
    "p=input('second string is: ')\n",
    "\n",
    "if s==p[::-1]:\n",
    "    print('Two strings are rotation of each other.')\n",
    "\n"
   ]
  },
  {
   "cell_type": "markdown",
   "id": "570f8c93",
   "metadata": {},
   "source": [
    "# Q4. Write a program to print the first non-repeated character from a string?"
   ]
  },
  {
   "cell_type": "code",
   "execution_count": 13,
   "id": "9730163a",
   "metadata": {},
   "outputs": [
    {
     "name": "stdout",
     "output_type": "stream",
     "text": [
      "first string is: edyoda\n",
      "['e', 'd', 'y', 'o', 'a']\n"
     ]
    }
   ],
   "source": [
    "s=input('first string is: ')\n",
    "b=[]\n",
    "\n",
    "for i in s:\n",
    "    if i not in b:\n",
    "        b.append(i)\n",
    "print(b)"
   ]
  },
  {
   "cell_type": "markdown",
   "id": "307c981c",
   "metadata": {},
   "source": [
    "# Q5. Read about the Tower of Hanoi algorithm. Write a program to implement it."
   ]
  },
  {
   "cell_type": "code",
   "execution_count": 3,
   "id": "c7890323",
   "metadata": {},
   "outputs": [
    {
     "name": "stdout",
     "output_type": "stream",
     "text": [
      "Enter the number of disks: 3\n",
      "Move disk 1 from rod A to rod C.\n",
      "Move disk 2 from rod A to rod B.\n",
      "Move disk 1 from rod C to rod B.\n",
      "Move disk 3 from rod A to rod C.\n",
      "Move disk 1 from rod B to rod A.\n",
      "Move disk 2 from rod B to rod C.\n",
      "Move disk 1 from rod A to rod C.\n"
     ]
    }
   ],
   "source": [
    " def tower_of_hanoi(disks, source, auxiliary, target):  \n",
    "    if(disks == 1):  \n",
    "        print('Move disk 1 from rod {} to rod {}.'.format(source, target))  \n",
    "        return  \n",
    "    \n",
    "    tower_of_hanoi(disks - 1, source, target, auxiliary)  \n",
    "    print('Move disk {} from rod {} to rod {}.'.format(disks, source, target))  \n",
    "    tower_of_hanoi(disks - 1, auxiliary, source, target)  \n",
    "  \n",
    "  \n",
    "disks = int(input('Enter the number of disks: '))  \n",
    "  \n",
    "tower_of_hanoi(disks, 'A', 'B', 'C') "
   ]
  },
  {
   "cell_type": "markdown",
   "id": "4057b208",
   "metadata": {},
   "source": [
    "# Q6. Read about infix, prefix, and postfix expressions. Write a program to convert postfix to prefix expression."
   ]
  },
  {
   "cell_type": "code",
   "execution_count": 9,
   "id": "e29e6c70",
   "metadata": {},
   "outputs": [
    {
     "name": "stdout",
     "output_type": "stream",
     "text": [
      "*-A/BC-/AKL\n"
     ]
    }
   ],
   "source": [
    "class conversion:\n",
    "    def __init__(self):\n",
    "        self.output=[]\n",
    "    \n",
    "    def isoperand(self,i):\n",
    "        return i.isalpha()\n",
    "    \n",
    "    def mainfunction(self,text):\n",
    "        for i in text:\n",
    "            if self.isoperand(i):\n",
    "                self.output.append(i)\n",
    "            elif i in ['+','-','*','/','^']:\n",
    "                n= self.output.pop()\n",
    "                o=self.output.pop()\n",
    "                p=i+o+n\n",
    "                self.output.append(p) \n",
    "                \n",
    "        print(\"\".join(self.output))\n",
    " \n",
    "# Driver program to test above function\n",
    "exp = 'ABC/-AK/L-*'\n",
    "obj = conversion()\n",
    "obj.mainfunction(exp)\n",
    " \n",
    "  "
   ]
  },
  {
   "cell_type": "markdown",
   "id": "1584613c",
   "metadata": {},
   "source": [
    "# Q7. Write a program to convert prefix expression to infix expression."
   ]
  },
  {
   "cell_type": "code",
   "execution_count": 12,
   "id": "e3ae2118",
   "metadata": {},
   "outputs": [
    {
     "name": "stdout",
     "output_type": "stream",
     "text": [
      "A+B*C-D\n"
     ]
    }
   ],
   "source": [
    "class conversion:\n",
    "    def __init__(self):\n",
    "        self.output=[]\n",
    "    \n",
    "    def isoperand(self,i):\n",
    "        return i.isalpha()\n",
    "    \n",
    "    def mainfunction(self,text):\n",
    "        rtext=text[::-1]\n",
    "        for i in rtext:\n",
    "            if self.isoperand(i):\n",
    "                self.output.append(i)\n",
    "            elif i in ['+','-','*','/','^']:\n",
    "                n= self.output.pop()\n",
    "                o=self.output.pop()\n",
    "                p=n+i+o\n",
    "                self.output.append(p) \n",
    "                \n",
    "        print(\"\".join(self.output))\n",
    " \n",
    "# Driver program to test above function\n",
    "exp = '*+AB-CD'\n",
    "obj = conversion()\n",
    "obj.mainfunction(exp)\n",
    " \n",
    "  "
   ]
  },
  {
   "cell_type": "markdown",
   "id": "40182359",
   "metadata": {},
   "source": [
    "# Q8. Write a program to check if all the brackets are closed in a given code snippet."
   ]
  },
  {
   "cell_type": "code",
   "execution_count": 16,
   "id": "fb0589a3",
   "metadata": {},
   "outputs": [
    {
     "name": "stdout",
     "output_type": "stream",
     "text": [
      "Balanced\n"
     ]
    }
   ],
   "source": [
    " \n",
    "def areBracketsBalanced(expr):\n",
    "    stack = []\n",
    "    for char in expr:\n",
    "        if char in [\"(\", \"{\", \"[\"]:\n",
    "            stack.append(char)\n",
    "        else:\n",
    "            if not stack:\n",
    "                return False\n",
    "            current_char = stack.pop()\n",
    "            if current_char == '(':\n",
    "                if char != \")\":\n",
    "                    return False\n",
    "            if current_char == '{':\n",
    "                if char != \"}\":\n",
    "                    return False\n",
    "            if current_char == '[':\n",
    "                if char != \"]\":\n",
    "                    return False\n",
    "    if stack:\n",
    "        return False\n",
    "    return True\n",
    " \n",
    "if __name__ == \"__main__\":\n",
    "    expr = \"{()[]}\"\n",
    "    \n",
    "    if areBracketsBalanced(expr):\n",
    "        print(\"Balanced\")\n",
    "    else:\n",
    "        print(\"Not Balanced\")"
   ]
  },
  {
   "cell_type": "markdown",
   "id": "adfc1203",
   "metadata": {},
   "source": [
    "# Q9. Write a program to reverse a stack."
   ]
  },
  {
   "cell_type": "code",
   "execution_count": 14,
   "id": "eff11089",
   "metadata": {},
   "outputs": [
    {
     "name": "stdout",
     "output_type": "stream",
     "text": [
      "[5, 4, 3, 2, 1]\n"
     ]
    }
   ],
   "source": [
    "class stack:\n",
    "    def __init__(self,straight):\n",
    "        self.straight=straight\n",
    "        self.reverse=[]\n",
    "    def rev(self):\n",
    "        for i in range(len(self.straight)):\n",
    "            k=self.straight.pop()\n",
    "            self.reverse.append(k)\n",
    "        print(self.reverse)\n",
    "        \n",
    "stack1=stack([1,2,3,4,5])\n",
    "stack1.rev()\n",
    "    "
   ]
  },
  {
   "cell_type": "markdown",
   "id": "5f232812",
   "metadata": {},
   "source": [
    "# Q10. Write a program to find the smallest number using a stack.\n",
    "\n"
   ]
  },
  {
   "cell_type": "code",
   "execution_count": 4,
   "id": "e425d6c8",
   "metadata": {},
   "outputs": [
    {
     "name": "stdout",
     "output_type": "stream",
     "text": [
      "Element: 1 pushed in the stack\n",
      "Normal Stack\n",
      "|1|\n",
      "Max Stack\n",
      "|1|\n",
      "Element: 0 pushed in the stack\n",
      "Normal Stack\n",
      "|0|\n",
      "|1|\n",
      "Max Stack\n",
      "|0|\n",
      "|1|\n",
      "Element: 5 pushed in the stack\n",
      "Normal Stack\n",
      "|5|\n",
      "|0|\n",
      "|1|\n",
      "Max Stack\n",
      "|0|\n",
      "|1|\n",
      "Minium is:  0\n"
     ]
    }
   ],
   "source": [
    "class Stack:\n",
    "    \n",
    "    def __init__(self):\n",
    "        self.stack = []\n",
    "        self.min_stack = []\n",
    "        \n",
    "    def push(self, element):\n",
    "        self.stack.append(element)\n",
    "        if len(self.min_stack) == 0:\n",
    "            self.min_stack.append(element)\n",
    "        elif self.min_stack[-1] >= element:\n",
    "            self.min_stack.append(element)\n",
    "        \n",
    "        print(f\"Element: {element} pushed in the stack\")\n",
    "    def is_empty(self):\n",
    "#         return len(self.stack) == 0\n",
    "        if len(self.stack) == 0:\n",
    "            print(\"stack is empty\")\n",
    "        else:\n",
    "            print(\"stack is not empty\")\n",
    "    \n",
    "    def pop(self):\n",
    "        if len(self.stack) == 0:\n",
    "            print(\"POP can't be performed on empty stack\")\n",
    "        else:\n",
    "            poped_element = self.stack.pop()\n",
    "            if self.min_stack[-1] == poped_element:\n",
    "                self.min_stack.pop()\n",
    "            print(f\"Poped: {poped_element} from the stack\")\n",
    "        \n",
    "            \n",
    "    def size(self):\n",
    "        print(\"The size of stack is: \",len(self.stack))\n",
    "    \n",
    "    def display_normal_stack(self):\n",
    "        print(\"Normal Stack\")\n",
    "        for i in self.stack[::-1]:\n",
    "            print(f\"|{i}|\")\n",
    "            \n",
    "    def display_min_stack(self):\n",
    "        print(\"Max Stack\")\n",
    "        for i in self.min_stack[::-1]:\n",
    "            print(f\"|{i}|\")\n",
    "            \n",
    "    def peek(self):\n",
    "        if len(self.stack) == 0:\n",
    "            print(\"Peek can't be performed on empty stack\")\n",
    "        else:\n",
    "             print(f\"Top element is: {self.stack[-1]}\")\n",
    "        \n",
    "    def get_min(self):\n",
    "        print(\"Minium is: \",self.min_stack[-1])\n",
    "        \n",
    "my_stack = Stack()\n",
    "my_stack.push(1)\n",
    "my_stack.display_normal_stack()\n",
    "my_stack.display_min_stack()\n",
    "my_stack.push(0)\n",
    "my_stack.display_normal_stack()\n",
    "my_stack.display_min_stack()\n",
    "my_stack.push(5)\n",
    "my_stack.display_normal_stack()\n",
    "my_stack.display_min_stack()\n",
    "my_stack.get_min()        \n"
   ]
  },
  {
   "cell_type": "code",
   "execution_count": null,
   "id": "64de2ffb",
   "metadata": {},
   "outputs": [],
   "source": []
  }
 ],
 "metadata": {
  "kernelspec": {
   "display_name": "Python 3",
   "language": "python",
   "name": "python3"
  },
  "language_info": {
   "codemirror_mode": {
    "name": "ipython",
    "version": 3
   },
   "file_extension": ".py",
   "mimetype": "text/x-python",
   "name": "python",
   "nbconvert_exporter": "python",
   "pygments_lexer": "ipython3",
   "version": "3.8.8"
  }
 },
 "nbformat": 4,
 "nbformat_minor": 5
}
