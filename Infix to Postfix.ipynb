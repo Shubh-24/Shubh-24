{
 "cells": [
  {
   "cell_type": "code",
   "execution_count": 1,
   "id": "18b4bfdd",
   "metadata": {},
   "outputs": [
    {
     "name": "stdout",
     "output_type": "stream",
     "text": [
      "abc*+z+\n"
     ]
    }
   ],
   "source": [
    "# infi to postfix expression\n",
    "class conversion:\n",
    "    def __init__(self,capacity):\n",
    "        self.top=-1\n",
    "        self.capacity=capacity\n",
    "        self.array=[]\n",
    "        self.output=[]\n",
    "        self.precedence={'+':1,'-':1,'*':2,'/':2,'^':3}\n",
    "    def isEmpty(self):\n",
    "        return True if self.top == -1 else False  #### i did not understand this line\n",
    "    \n",
    "    def peek(self):\n",
    "        return self.array[-1]\n",
    "        \n",
    "    def pop(self):\n",
    "        if not self.isEmpty():\n",
    "            self.top-=1\n",
    "            return self.array.pop()\n",
    "        else:\n",
    "            return \"$\"\n",
    "               \n",
    "    def push(self,i):\n",
    "        self.top+=1\n",
    "        self.array.append(i)\n",
    "    \n",
    "    def notgreaterthan(self,i):\n",
    "        try:\n",
    "            a = self.precedence[i]\n",
    "            b = self.precedence[self.peek()]\n",
    "            return True if a  <= b else False\n",
    "        except KeyError:\n",
    "            return False\n",
    "    \n",
    "    def isoperand(self,i):\n",
    "        return i.isalpha()\n",
    "    \n",
    "    def mainfunction(self,text):\n",
    "        for i in text:\n",
    "            if self.isoperand(i):\n",
    "                self.output.append(i)\n",
    "            elif i=='(':\n",
    "                self.push(i)\n",
    "            elif i == ')':\n",
    "                while( (not self.isEmpty()) and\n",
    "                                self.peek() != '('):\n",
    "                    a = self.pop()\n",
    "                    self.output.append(a)\n",
    "                if (not self.isEmpty() and self.peek() != '('):\n",
    "                    return -1\n",
    "                else:\n",
    "                    self.pop()\n",
    "            else:\n",
    "                while (not self.isEmpty() and self.notgreaterthan(i)):\n",
    "                    self.output.append(self.pop())\n",
    "                self.push(i) # pushing in the array\n",
    "                \n",
    "         # pop all the operator from the stack\n",
    "        while not self.isEmpty():\n",
    "            self.output.append(self.pop())\n",
    " \n",
    "        print(\"\".join(self.output))\n",
    " \n",
    "# Driver program to test above function\n",
    "exp = 'a+b*c+z'\n",
    "obj = conversion(len(exp))\n",
    "obj.mainfunction(exp)\n",
    " \n",
    "  \n",
    "            \n",
    "            \n",
    "        \n",
    "        \n",
    "            \n",
    "        "
   ]
  },
  {
   "cell_type": "markdown",
   "id": "2ec35bd6",
   "metadata": {},
   "source": [
    "# infix to prefix epression"
   ]
  },
  {
   "cell_type": "code",
   "execution_count": 2,
   "id": "42df1e05",
   "metadata": {},
   "outputs": [
    {
     "name": "stdout",
     "output_type": "stream",
     "text": [
      "enter the expression a+b+c\n",
      "prefix expression after every iteration is:\n",
      "cba+\n",
      "cba++\n",
      "the prefix expr of : a+b+c is ++abc\n"
     ]
    }
   ],
   "source": [
    "class infix_to_prefix:\n",
    "    precedence={'^':5,'*':4,'/':4,'+':3,'-':3,'(':2,')':1}\n",
    "    def __init__(self):\n",
    "        self.items=[]\n",
    "        self.size=-1\n",
    "    def push(self,value):\n",
    "        self.items.append(value)\n",
    "        self.size+=1\n",
    "    def pop(self):\n",
    "        if self.isempty():\n",
    "            return 0\n",
    "        else:\n",
    "            self.size-=1\n",
    "            return self.items.pop()\n",
    "    def isempty(self):\n",
    "        if(self.size==-1):\n",
    "            return True\n",
    "        else:\n",
    "            return False\n",
    "    def seek(self):\n",
    "        if self.isempty():\n",
    "            return False\n",
    "        else:\n",
    "            return self.items[self.size]\n",
    "    def is0perand(self,i):\n",
    "        if i.isalpha() or i in '1234567890':\n",
    "            return True\n",
    "        else:\n",
    "            return False\n",
    "    def reverse(self,expr):\n",
    "        rev=\"\"\n",
    "        for i in expr:\n",
    "            if i == '(':\n",
    "                i=')'\n",
    "            elif i == ')':\n",
    "                i='('\n",
    "            rev=i+rev\n",
    "        return rev\n",
    "    def infixtoprefix (self,expr):\n",
    "        prefix=\"\"\n",
    "        for i in expr:\n",
    "            if(len(expr)%2==0):\n",
    "                print(\"Incorrect infix expr\")\n",
    "                return False\n",
    "            elif(self.is0perand(i)):\n",
    "                prefix +=i\n",
    "            elif(i in '+-*/^'):\n",
    "                while(len(self.items)and self.precedence[i] < self.precedence[self.seek()]):\n",
    "                    prefix+=self.pop()\n",
    "                self.push(i)\n",
    "            elif i =='(':\n",
    "                self.push(i)\n",
    "            elif i ==')':\n",
    "                o=self.pop()\n",
    "                while o!='(':\n",
    "                    prefix +=o\n",
    "                    o=self.pop()\n",
    "            \n",
    "        while len(self.items):\n",
    "            if(self.seek()=='('):\n",
    "                self.pop()\n",
    "            else:\n",
    "                prefix+=self.pop()\n",
    "                print(prefix)\n",
    "        return prefix\n",
    "s=infix_to_prefix()\n",
    "expr=input('enter the expression ')\n",
    "rev=\"\"\n",
    "rev=s.reverse(expr)\n",
    "#print(rev)\n",
    "result=s.infixtoprefix(rev)\n",
    "if (result!=False):\n",
    "    \n",
    "    prefix=s.reverse(result)\n",
    "    print(\"the prefix expr of :\",expr,\"is\",prefix)"
   ]
  },
  {
   "cell_type": "markdown",
   "id": "5a8673b2",
   "metadata": {},
   "source": [
    "# postfix epression work"
   ]
  },
  {
   "cell_type": "code",
   "execution_count": 1,
   "id": "375fbb67",
   "metadata": {},
   "outputs": [
    {
     "data": {
      "text/plain": [
       "14"
      ]
     },
     "execution_count": 1,
     "metadata": {},
     "output_type": "execute_result"
    }
   ],
   "source": [
    "def eval_postfix(text):\n",
    "    s =[]\n",
    "    for i in text:\n",
    "        if i in \"0123456789\":\n",
    "            s.append(int(i))\n",
    "\n",
    "        plus = None\n",
    "        if s!=[]:\n",
    "            if i== \"+\":\n",
    "                a=s.pop()\n",
    "                b=s.pop()\n",
    "                plus = int(a)+int(b)\n",
    "            elif i == \"-\":\n",
    "                a=s.pop()\n",
    "                b=s.pop()\n",
    "                plus = int(a)-int(b)\n",
    "            elif i == \"*\":\n",
    "                a=s.pop()\n",
    "                b=s.pop()\n",
    "                plus = int(a)*int(b)\n",
    "            elif i == \"/\":\n",
    "                a=s.pop()\n",
    "                b=s.pop()\n",
    "                plus = int(a)/int(b)\n",
    "        if plus is not None:\n",
    "            s.append(plus)\n",
    "        \n",
    "    return s.pop()\n",
    "\n",
    "text='5 9 +'\n",
    "eval_postfix(text)"
   ]
  },
  {
   "cell_type": "markdown",
   "id": "caeaef9c",
   "metadata": {},
   "source": [
    "# convert postfix to prefix expression"
   ]
  },
  {
   "cell_type": "code",
   "execution_count": 2,
   "id": "beadf011",
   "metadata": {},
   "outputs": [
    {
     "name": "stdout",
     "output_type": "stream",
     "text": [
      "*-A/BC-/AKL\n"
     ]
    }
   ],
   "source": [
    "class conversion:\n",
    "    def __init__(self):\n",
    "        self.output=[]\n",
    "    \n",
    "    def isoperand(self,i):\n",
    "        return i.isalpha()\n",
    "    \n",
    "    def mainfunction(self,text):\n",
    "        for i in text:\n",
    "            if self.isoperand(i):\n",
    "                self.output.append(i)\n",
    "            elif i in ['+','-','*','/','^']:\n",
    "                n= self.output.pop()\n",
    "                o=self.output.pop()\n",
    "                p=i+o+n\n",
    "                self.output.append(p) \n",
    "                \n",
    "        print(\"\".join(self.output))\n",
    " \n",
    "# Driver program to test above function\n",
    "exp = 'ABC/-AK/L-*'\n",
    "obj = conversion()\n",
    "obj.mainfunction(exp)"
   ]
  },
  {
   "cell_type": "markdown",
   "id": "60c5f5ea",
   "metadata": {},
   "source": [
    "# prefix to postfix"
   ]
  },
  {
   "cell_type": "code",
   "execution_count": 3,
   "id": "7df39b86",
   "metadata": {},
   "outputs": [
    {
     "name": "stdout",
     "output_type": "stream",
     "text": [
      "ABC/-AK/L-*\n"
     ]
    }
   ],
   "source": [
    "s = \"*-A/BC-/AKL\"\n",
    " \n",
    "# Stack for storing operands\n",
    "stack = []\n",
    " \n",
    "operators = set(['+', '-', '*', '/', '^'])\n",
    " \n",
    "# Reversing the order\n",
    "s = s[::-1]\n",
    " \n",
    "# iterating through individual tokens\n",
    "for i in s:\n",
    " \n",
    "    # if token is operator\n",
    "    if i in operators:\n",
    " \n",
    "        # pop 2 elements from stack\n",
    "        a = stack.pop()\n",
    "        b = stack.pop()\n",
    " \n",
    "        # concatenate them as operand1 +\n",
    "        # operand2 + operator\n",
    "        temp = a+b+i\n",
    "        stack.append(temp)\n",
    " \n",
    "    # else if operand\n",
    "    else:\n",
    "        stack.append(i)\n",
    " \n",
    "# printing final output\n",
    "print(*stack)"
   ]
  },
  {
   "cell_type": "markdown",
   "id": "604c7821",
   "metadata": {},
   "source": [
    "# convert prefix expression to infix expression"
   ]
  },
  {
   "cell_type": "code",
   "execution_count": 3,
   "id": "868193c2",
   "metadata": {},
   "outputs": [
    {
     "name": "stdout",
     "output_type": "stream",
     "text": [
      "A+B*C-D\n"
     ]
    }
   ],
   "source": [
    "class conversion:\n",
    "    def __init__(self):\n",
    "        self.output=[]\n",
    "    \n",
    "    def isoperand(self,i):\n",
    "        return i.isalpha()\n",
    "    \n",
    "    def mainfunction(self,text):\n",
    "        rtext=text[::-1]\n",
    "        for i in rtext:\n",
    "            if self.isoperand(i):\n",
    "                self.output.append(i)\n",
    "            elif i in ['+','-','*','/','^']:\n",
    "                n= self.output.pop()\n",
    "                o=self.output.pop()\n",
    "                p=n+i+o\n",
    "                self.output.append(p) \n",
    "                \n",
    "        print(\"\".join(self.output))\n",
    " \n",
    "# Driver program to test above function\n",
    "exp = '*+AB-CD'\n",
    "obj = conversion()\n",
    "obj.mainfunction(exp)\n",
    " \n",
    "  "
   ]
  },
  {
   "cell_type": "code",
   "execution_count": null,
   "id": "485d005b",
   "metadata": {},
   "outputs": [],
   "source": []
  }
 ],
 "metadata": {
  "kernelspec": {
   "display_name": "Python 3",
   "language": "python",
   "name": "python3"
  },
  "language_info": {
   "codemirror_mode": {
    "name": "ipython",
    "version": 3
   },
   "file_extension": ".py",
   "mimetype": "text/x-python",
   "name": "python",
   "nbconvert_exporter": "python",
   "pygments_lexer": "ipython3",
   "version": "3.8.8"
  }
 },
 "nbformat": 4,
 "nbformat_minor": 5
}
