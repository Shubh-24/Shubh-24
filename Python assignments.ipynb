{
 "cells": [
  {
   "cell_type": "code",
   "execution_count": null,
   "id": "7ef1a6d2",
   "metadata": {},
   "outputs": [],
   "source": []
  },
  {
   "cell_type": "code",
   "execution_count": null,
   "id": "b0dcf802",
   "metadata": {},
   "outputs": [],
   "source": [
    "https://quescol.com/interview-preparation/python-coding-question"
   ]
  },
  {
   "cell_type": "code",
   "execution_count": 48,
   "id": "4a31344d",
   "metadata": {},
   "outputs": [
    {
     "data": {
      "text/plain": [
       "0"
      ]
     },
     "execution_count": 48,
     "metadata": {},
     "output_type": "execute_result"
    }
   ],
   "source": [
    "# A=0, B=1,C=B+A,D=C+B.....\n",
    "# Find sum of 'MAN'\n",
    "alpha=[]\n",
    "for i in range(65,91):\n",
    "    alpha.append(chr(i))\n",
    "\n",
    "def fibonacci(num):\n",
    "    num1=0\n",
    "    num2=1\n",
    "    series=0\n",
    "    fibo=[]\n",
    "    for i in range(num):\n",
    "        fibo.append(series)\n",
    "        num1=num2\n",
    "        num2=series\n",
    "        series=num1+num2\n",
    "    return fibo\n",
    "num=26\n",
    "\n",
    "fibo_list=fibonacci(num)\n",
    "\n",
    "def final(input1):\n",
    "    dicto=dict(zip(alpha,fibo_list))\n",
    "    total=0\n",
    "    for i in (input1):\n",
    "        total+=dicto.get(i)\n",
    "    return(total)\n",
    "\n",
    "final('A')"
   ]
  },
  {
   "cell_type": "code",
   "execution_count": 75,
   "id": "fffabf35",
   "metadata": {},
   "outputs": [
    {
     "name": "stdout",
     "output_type": "stream",
     "text": [
      "100\n"
     ]
    }
   ],
   "source": [
    "# Electrostatic field\n",
    "input1=[2,3]\n",
    "n=len(input1)\n",
    "it2='PN'\n",
    "input2=[i for i in it2]\n",
    "count=0\n",
    "n=2\n",
    "for i in range(0,n):\n",
    "    if input2[i]=='P':\n",
    "        count=count+input1[i]\n",
    "    else:\n",
    "        count=count-input1[i]\n",
    "count=abs(count*100)\n",
    "print(count)\n",
    "    "
   ]
  },
  {
   "cell_type": "code",
   "execution_count": 76,
   "id": "689ced01",
   "metadata": {},
   "outputs": [
    {
     "name": "stdout",
     "output_type": "stream",
     "text": [
      "Balanced\n"
     ]
    }
   ],
   "source": [
    "# missing braces\n",
    "\n",
    "openList = [\"[\", \"{\", \"(\"]\n",
    "closeList = [\"]\", \"}\", \")\"]\n",
    "\n",
    "\n",
    "def balance(myStr):\n",
    "    stack = []\n",
    "    for i in myStr:\n",
    "        if i in openList:\n",
    "            stack.append(i)\n",
    "        elif i in closeList:\n",
    "            pos = closeList.index(i)\n",
    "            if (len(stack) > 0) and (openList[pos] == stack[len(stack) - 1]):\n",
    "                stack.pop()\n",
    "            else:\n",
    "                return \"Unbalanced\"\n",
    "    if len(stack) == 0:\n",
    "        return \"Balanced\"\n",
    "\n",
    "\n",
    "print(balance(\"{[()](){}}\"))"
   ]
  },
  {
   "cell_type": "code",
   "execution_count": 79,
   "id": "2ca1d897",
   "metadata": {},
   "outputs": [
    {
     "data": {
      "text/plain": [
       "1"
      ]
     },
     "execution_count": 79,
     "metadata": {},
     "output_type": "execute_result"
    }
   ],
   "source": [
    "def checkConsecutive(l):\n",
    "    if sorted(l) == list(range(min(l), max(l)+1)):\n",
    "        return 1\n",
    "    else:\n",
    "        return 0\n",
    "      \n",
    "# Driver Code\n",
    "lst = [2, 3, 1, 4, 5]\n",
    "checkConsecutive(lst)"
   ]
  },
  {
   "cell_type": "code",
   "execution_count": 80,
   "id": "6a562080",
   "metadata": {},
   "outputs": [
    {
     "name": "stdout",
     "output_type": "stream",
     "text": [
      "23\n"
     ]
    }
   ],
   "source": [
    "# evaluate postfix expression\n",
    "\n",
    "def postfix_evaluation(s):\n",
    "\n",
    "    s=s.split()\n",
    "\n",
    "    n=len(s)\n",
    "\n",
    "    stack =[]\n",
    "\n",
    "    for i in range(n):\n",
    "\n",
    "        if s[i].isdigit():\n",
    "\n",
    "          #append function is equivalent to push\n",
    "\n",
    "            stack.append(int(s[i]))\n",
    "\n",
    "        elif s[i]==\"+\":\n",
    "\n",
    "            a=stack.pop()\n",
    "\n",
    "            b=stack.pop()\n",
    "\n",
    "            stack.append(int(a)+int(b))\n",
    "\n",
    "        elif s[i]==\"*\":\n",
    "\n",
    "            a=stack.pop()\n",
    "\n",
    "            b=stack.pop()\n",
    "\n",
    "            stack.append(int(a)*int(b))\n",
    "\n",
    "        elif s[i]==\"/\":\n",
    "\n",
    "            a=stack.pop()\n",
    "\n",
    "            b=stack.pop()\n",
    "\n",
    "            stack.append(int(b)/int(a))\n",
    "\n",
    "        elif s[i]==\"-\":\n",
    "\n",
    "            a=stack.pop()\n",
    "\n",
    "            b=stack.pop()\n",
    "\n",
    "            stack.append(int(b)-int(a))            \n",
    "\n",
    "    return stack.pop()\n",
    "\n",
    "#space separtor is required , for solving 2 or more digits .\n",
    "\n",
    "s=\"10 2 8 * + 3 -\"\n",
    "\n",
    "val=postfix_evaluation(s)\n",
    "\n",
    "print(val)"
   ]
  },
  {
   "cell_type": "code",
   "execution_count": 2,
   "id": "8287a868",
   "metadata": {},
   "outputs": [
    {
     "data": {
      "text/plain": [
       "1"
      ]
     },
     "execution_count": 2,
     "metadata": {},
     "output_type": "execute_result"
    }
   ],
   "source": [
    "def sol(a,b,x,y,c=0):\n",
    "    if(a == x and b == y):\n",
    "        return c\n",
    "    elif (a > x or b > y):\n",
    "        return False\n",
    "    else:\n",
    "         return (sol(a+b, b, x, y,c=c+1) or sol(a, a+b, x, y,c=c+1))\n",
    "       \n",
    "    \n",
    "\n",
    "\n",
    "sol(1,1,1,2)"
   ]
  },
  {
   "cell_type": "code",
   "execution_count": null,
   "id": "346775a1",
   "metadata": {},
   "outputs": [],
   "source": [
    "# required to convert (1,1) to (x,y)\n",
    "def minimumSteps(a,b,x, y):\n",
    "    cnt = 0\n",
    "    while (a<=x and b<=y):\n",
    "        if (a<=x):\n",
    "            a=a+b\n",
    "            if (a>x and b!=y):\n",
    "                a=a-b\n",
    "            else:\n",
    "                cnt+=1\n",
    "        else:\n",
    "            b=b+a\n",
    "            if (a!=x and b>y):\n",
    "                b=b-a\n",
    "            else:\n",
    "                cnt += 1\n",
    "    if (x==y):\n",
    "        cnt = -1\n",
    "    return cnt\n",
    "\n",
    "a=1\n",
    "b=1\n",
    "x=5\n",
    "y=2\n",
    "     \n",
    "minimumSteps(a,b,x, y)\n",
    "     \n",
    "# This code is contributed by ipg2016107"
   ]
  },
  {
   "cell_type": "code",
   "execution_count": 59,
   "id": "65f7f70a",
   "metadata": {},
   "outputs": [
    {
     "name": "stdout",
     "output_type": "stream",
     "text": [
      "enter the expression a+b\n",
      "the prefix expr of : a+b is +ab\n"
     ]
    }
   ],
   "source": [
    "# Infix to prefix conversion\n",
    "class infix_to_prefix:\n",
    "    precedence={'^':5,'*':4,'/':4,'+':3,'-':3,'(':2,')':1}\n",
    "    def __init__(self):\n",
    "        self.items=[]\n",
    "        self.size=-1\n",
    "    def push(self,value):\n",
    "        self.items.append(value)\n",
    "        self.size+=1\n",
    "    def pop(self):\n",
    "        if self.isempty():\n",
    "            return 0\n",
    "        else:\n",
    "            self.size-=1\n",
    "            return self.items.pop()\n",
    "    def isempty(self):\n",
    "        if(self.size==-1):\n",
    "            return True\n",
    "        else:\n",
    "            return False\n",
    "    def seek(self):\n",
    "        if self.isempty():\n",
    "            return False\n",
    "        else:\n",
    "            return self.items[self.size]\n",
    "    def isoperand(self,i):                   \n",
    "        if i.isalpha() or i in '1234567890':\n",
    "            return True\n",
    "        else:\n",
    "            return False\n",
    "    def reverse(self,expr):\n",
    "        rev=\"\"\n",
    "        for i in expr:\n",
    "            if i == '(':\n",
    "                i=')'\n",
    "            elif i == ')':\n",
    "                i='('\n",
    "            rev=i+rev\n",
    "        return rev\n",
    "    def infixtoprefix (self,expr): \n",
    "        prefix=\"\"\n",
    "        ##print('prefix expression after every iteration is:')\n",
    "        for i in expr:\n",
    "            if(len(expr)%2==0):\n",
    "                print(\"Incorrect infix expr\")\n",
    "                return False\n",
    "            elif(self.isoperand(i)):\n",
    "                prefix +=i\n",
    "            elif(i in '+-*/^'):\n",
    "                while(len(self.items)and self.precedence[i] < self.precedence[self.seek()]):\n",
    "                    prefix+=self.pop()\n",
    "                self.push(i)\n",
    "            elif i == '(':\n",
    "                self.push(i)\n",
    "            elif i == ')':\n",
    "                o=self.pop()\n",
    "                while o!='(':\n",
    "                    prefix +=o\n",
    "                    o=self.pop()\n",
    "        ##print(prefix)\n",
    "                #end of for\n",
    "        while len(self.items):\n",
    "            if(self.seek()=='('):\n",
    "                self.pop()\n",
    "            else:\n",
    "                prefix+=self.pop()\n",
    "                ##print(prefix)\n",
    "        return prefix\n",
    "s=infix_to_prefix()\n",
    "expr=input('enter the expression ')\n",
    "rev=\"\"\n",
    "rev=s.reverse(expr)\n",
    "#print(rev)\n",
    "result=s.infixtoprefix(rev)\n",
    "if (result!=False):\n",
    "    \n",
    "    prefix=s.reverse(result)\n",
    "    print(\"the prefix expr of :\",expr,\"is\",prefix)\n",
    "\n",
    "\n",
    "\n",
    "\n",
    "\n"
   ]
  },
  {
   "cell_type": "markdown",
   "id": "5d58e67b",
   "metadata": {},
   "source": [
    "# Write a Python program to get the Fibonacci series between 0 to 50"
   ]
  },
  {
   "cell_type": "code",
   "execution_count": 5,
   "id": "70cc6401",
   "metadata": {},
   "outputs": [
    {
     "name": "stdout",
     "output_type": "stream",
     "text": [
      "1\n",
      "1\n",
      "2\n",
      "3\n",
      "5\n",
      "8\n",
      "13\n",
      "21\n",
      "34\n"
     ]
    }
   ],
   "source": [
    "a,b=0,1\n",
    "while b<50:\n",
    "    print(b)\n",
    "    a,b = b,a+b"
   ]
  },
  {
   "cell_type": "code",
   "execution_count": 57,
   "id": "f10d174a",
   "metadata": {},
   "outputs": [
    {
     "data": {
      "text/plain": [
       "0"
      ]
     },
     "execution_count": 57,
     "metadata": {},
     "output_type": "execute_result"
    }
   ],
   "source": [
    "def func(a,b,x,y, c=0):\n",
    "    if (a == x and b == y):\n",
    "        return True\n",
    "    elif (a > x or b > y):\n",
    "        return False\n",
    "    elif (sol(a+b, b, x, y,c=+1) or sol(a, a+b, x, y,c=+1)):\n",
    "        return c\n",
    "    return False\n",
    "\n",
    "func(1,1,3,2)\n",
    "     "
   ]
  },
  {
   "cell_type": "code",
   "execution_count": 52,
   "id": "8a439814",
   "metadata": {},
   "outputs": [
    {
     "data": {
      "text/plain": [
       "100"
      ]
     },
     "execution_count": 52,
     "metadata": {},
     "output_type": "execute_result"
    }
   ],
   "source": [
    "def func(n, count=0):\n",
    "...     if n==0:\n",
    "...             return count\n",
    "...     else:\n",
    "...             return func(n-1, count+1)\n",
    "... \n",
    ">>> func(100)"
   ]
  },
  {
   "cell_type": "markdown",
   "id": "60156ffd",
   "metadata": {},
   "source": [
    "# Write a Python program that accepts a word from the user and reverse it."
   ]
  },
  {
   "cell_type": "code",
   "execution_count": 1,
   "id": "a61eaf78",
   "metadata": {},
   "outputs": [
    {
     "name": "stdout",
     "output_type": "stream",
     "text": [
      "a d o y d E "
     ]
    }
   ],
   "source": [
    "str=\"Edyoda\"\n",
    "j=len(str)\n",
    "for i in range(j):\n",
    "    print(str[j-1], end=' ')\n",
    "    j-=1\n"
   ]
  },
  {
   "cell_type": "markdown",
   "id": "59efd51a",
   "metadata": {},
   "source": [
    "# Write a Python program to count the number of even and odd numbers from a series of numbers."
   ]
  },
  {
   "cell_type": "code",
   "execution_count": null,
   "id": "46ad6421",
   "metadata": {},
   "outputs": [],
   "source": [
    "numbers = (1, 2, 3, 4, 5, 6, 7, 8, 9)\n",
    "count_even=0\n",
    "count_odd=0\n",
    "for i in numbers:\n",
    "    if i%2==0:\n",
    "        count_even+=1\n",
    "    else:\n",
    "        count_odd+=1\n",
    "print(count_even)\n",
    "print(count_odd)"
   ]
  },
  {
   "cell_type": "markdown",
   "id": "b04fa305",
   "metadata": {},
   "source": [
    "# Assignment 2\n"
   ]
  },
  {
   "cell_type": "markdown",
   "id": "ed292a94",
   "metadata": {},
   "source": [
    "# Write a Python program to get a list, sorted in increasing order by the last element in each tuple from a given list of non-empty tuples\n",
    "# Sample List : [(2, 5), (1, 2), (4, 4), (2, 3), (2, 1)]\n",
    "# Expected Result : [(2, 1), (1, 2), (2, 3), (4, 4), (2, 5)]"
   ]
  },
  {
   "cell_type": "code",
   "execution_count": 2,
   "id": "f5d43801",
   "metadata": {},
   "outputs": [
    {
     "name": "stdout",
     "output_type": "stream",
     "text": [
      "[(2, 1), (1, 2), (2, 3), (4, 4), (2, 5)]\n"
     ]
    }
   ],
   "source": [
    "s=[(2, 5), (1, 2), (4, 4), (2, 3), (2, 1)]\n",
    "\n",
    "def last_index(t):\n",
    "    return t[-1]\n",
    "\n",
    "\n",
    "def sort_list(list):\n",
    "    return sorted(list, key=last_index)\n",
    "   \n",
    "\n",
    "l=[(2, 5), (1, 2), (4, 4), (2, 3), (2, 1)]\n",
    "print(sort_list(l))\n"
   ]
  },
  {
   "cell_type": "markdown",
   "id": "def18744",
   "metadata": {},
   "source": [
    "# Write a Python program to print a dictionary whose keys should be the alphabet from a-z and the value should be corresponding ASCII values\n",
    "# Sample Output : {'a': 97, 'b': 98, 'c': 99, 'd': 100, 'e': 101, 'f': 102, 'g': 103, 'h': 104, 'i': 105, 'j': 106, 'k': 107, 'l': 108, 'm': 109, 'n': 110, 'o': 111, 'p': 112, 'q': 113, 'r': 114, 's': 115, 't': 116, 'u': 117, 'v': 118, 'w': 119, 'x': 120, 'y': 121, 'z': 122"
   ]
  },
  {
   "cell_type": "code",
   "execution_count": 3,
   "id": "227956c9",
   "metadata": {},
   "outputs": [
    {
     "name": "stdout",
     "output_type": "stream",
     "text": [
      "{'a': 97, 'b': 98, 'c': 99, 'd': 100, 'e': 101, 'f': 102, 'g': 103, 'h': 104, 'i': 105, 'j': 106, 'k': 107, 'l': 108, 'm': 109, 'n': 110, 'o': 111, 'p': 112, 'q': 113, 'r': 114, 's': 115, 't': 116, 'u': 117, 'v': 118, 'w': 119, 'x': 120, 'y': 121, 'z': 122}\n"
     ]
    }
   ],
   "source": [
    "t={chr(i):i for i in range(ord('a'),ord('z')+1)}\n",
    "print(t)"
   ]
  },
  {
   "cell_type": "markdown",
   "id": "e894e96d",
   "metadata": {},
   "source": [
    "# Sample String : 'The quick Brow Fox'\n",
    "# Expected Output :\n",
    "# No. of Upper case characters : 3\n",
    "# No. of Lower case Characters : 12"
   ]
  },
  {
   "cell_type": "code",
   "execution_count": 4,
   "id": "62823df4",
   "metadata": {},
   "outputs": [
    {
     "data": {
      "text/plain": [
       "(3, 12)"
      ]
     },
     "execution_count": 4,
     "metadata": {},
     "output_type": "execute_result"
    }
   ],
   "source": [
    "def case_calculator(string):\n",
    "    Upper=0\n",
    "    Lower=0\n",
    "    Space=0\n",
    "    for i in string:\n",
    "        if i.isupper():\n",
    "            Upper+=1\n",
    "        elif i==' ':\n",
    "            Space+=1\n",
    "        elif i.islower():\n",
    "            Lower+=1\n",
    "    return (Upper,Lower)\n",
    "\n",
    "string='The quick Brow Fox'\n",
    "case_calculator(string)\n",
    "\n"
   ]
  },
  {
   "cell_type": "markdown",
   "id": "352564aa",
   "metadata": {},
   "source": [
    "# Write a Python function to sum all the numbers in a list.\n",
    "# Sample List : (8, 2, 3, 0, 7)\n",
    "# Expected Output : 20"
   ]
  },
  {
   "cell_type": "code",
   "execution_count": 6,
   "id": "c53ccdb2",
   "metadata": {},
   "outputs": [
    {
     "data": {
      "text/plain": [
       "20"
      ]
     },
     "execution_count": 6,
     "metadata": {},
     "output_type": "execute_result"
    }
   ],
   "source": [
    "def summation(list1):\n",
    "    k=0\n",
    "    for i in list1:\n",
    "        k=i+k\n",
    "    return k\n",
    "\n",
    "list1=[8,2,3,0,7]\n",
    "summation(list1)"
   ]
  },
  {
   "cell_type": "markdown",
   "id": "a385d856",
   "metadata": {},
   "source": [
    "# Write a Python program to reverse a string.\n",
    "# Sample String : \"1234abcd\"\n",
    "# Expected Output : \"dcba4321\""
   ]
  },
  {
   "cell_type": "code",
   "execution_count": 7,
   "id": "e6039a6e",
   "metadata": {},
   "outputs": [
    {
     "data": {
      "text/plain": [
       "'dcba4321'"
      ]
     },
     "execution_count": 7,
     "metadata": {},
     "output_type": "execute_result"
    }
   ],
   "source": [
    "A=\"1234abcd\"\n",
    "A[::-1]"
   ]
  },
  {
   "cell_type": "code",
   "execution_count": 8,
   "id": "b4591f43",
   "metadata": {},
   "outputs": [
    {
     "data": {
      "text/plain": [
       "'dcba4321'"
      ]
     },
     "execution_count": 8,
     "metadata": {},
     "output_type": "execute_result"
    }
   ],
   "source": [
    "def reverse(string):\n",
    "    rstring=string[::-1]\n",
    "    return rstring\n",
    "\n",
    "string=\"1234abcd\"\n",
    "reverse(string)"
   ]
  },
  {
   "cell_type": "markdown",
   "id": "153acde7",
   "metadata": {},
   "source": [
    "# Write a Python program to create a lambda function that adds 25 to a given number passed in as an argument.\n",
    "# sample input: 10\n",
    "# sample output: 35"
   ]
  },
  {
   "cell_type": "code",
   "execution_count": 10,
   "id": "336d4594",
   "metadata": {},
   "outputs": [
    {
     "name": "stdout",
     "output_type": "stream",
     "text": [
      "5\n"
     ]
    },
    {
     "data": {
      "text/plain": [
       "30"
      ]
     },
     "execution_count": 10,
     "metadata": {},
     "output_type": "execute_result"
    }
   ],
   "source": [
    "func= lambda x:x+25\n",
    "\n",
    "x=int(input())\n",
    "func(x)\n"
   ]
  },
  {
   "cell_type": "markdown",
   "id": "007aa09d",
   "metadata": {},
   "source": [
    "# Write a Python program to triple all numbers of a given list of integers. Use Python map.\n",
    "# sample list: [1, 2, 3, 4, 5, 6, 7]\n",
    "# Triple of list numbers:\n",
    "# [3, 6, 9, 12, 15, 18, 21]"
   ]
  },
  {
   "cell_type": "code",
   "execution_count": null,
   "id": "1bd33564",
   "metadata": {},
   "outputs": [],
   "source": []
  },
  {
   "cell_type": "markdown",
   "id": "b243ed04",
   "metadata": {},
   "source": [
    "# Write a Python program to square the elements of a list using map() function.\n",
    "# Sample List: [4, 5, 2, 9]\n",
    "# Square the elements of the list:\n",
    "# # [16, 25, 4, 81]"
   ]
  },
  {
   "cell_type": "code",
   "execution_count": 11,
   "id": "04495c4c",
   "metadata": {},
   "outputs": [
    {
     "data": {
      "text/plain": [
       "[16, 25, 4, 81]"
      ]
     },
     "execution_count": 11,
     "metadata": {},
     "output_type": "execute_result"
    }
   ],
   "source": [
    "l=[4, 5, 2, 9]\n",
    "\n",
    "def square(number):\n",
    "    return number*number\n",
    "\n",
    "z=list(map(square,l))\n",
    "z"
   ]
  },
  {
   "cell_type": "markdown",
   "id": "b33a4fc0",
   "metadata": {},
   "source": [
    "# Write a Python class to implement pow(x, n)\n",
    "# Explanation:\n",
    "# Use should be able to find the nth power of the x.(i.e xxx*x...n times)\n",
    "# You must implement it using Class\n",
    "# Sample Input:\n",
    "# x: 10\n",
    "# n: 2\n",
    "# Sample Output:\n",
    "# 100"
   ]
  },
  {
   "cell_type": "code",
   "execution_count": 12,
   "id": "495d9eef",
   "metadata": {},
   "outputs": [],
   "source": [
    "class power:\n",
    "    def __init__(self):\n",
    "        self.num1=int(input())\n",
    "        self.num2=int(input())\n",
    "        \n",
    "    def calculate(self):\n",
    "        return self.num1**self.num2\n",
    "        "
   ]
  },
  {
   "cell_type": "code",
   "execution_count": 13,
   "id": "0ddb6a1d",
   "metadata": {},
   "outputs": [
    {
     "name": "stdout",
     "output_type": "stream",
     "text": [
      "5\n",
      "5\n"
     ]
    }
   ],
   "source": [
    "power_cal=power()"
   ]
  },
  {
   "cell_type": "code",
   "execution_count": 14,
   "id": "e6b60da9",
   "metadata": {},
   "outputs": [
    {
     "data": {
      "text/plain": [
       "3125"
      ]
     },
     "execution_count": 14,
     "metadata": {},
     "output_type": "execute_result"
    }
   ],
   "source": [
    "power_cal.calculate()"
   ]
  },
  {
   "cell_type": "code",
   "execution_count": 2,
   "id": "43e2f544",
   "metadata": {},
   "outputs": [
    {
     "name": "stdout",
     "output_type": "stream",
     "text": [
      "[-23, -6, -5, 0, 5, 23, 23, 67]\n"
     ]
    }
   ],
   "source": [
    "data_list = [-5, -23, 5, 0, 23, -6, 23, 67]\n",
    "new_list = []\n",
    "\n",
    "while data_list:\n",
    "    minimum = data_list[0]  # arbitrary number in list \n",
    "    for x in data_list: \n",
    "        if x < minimum:\n",
    "            minimum = x\n",
    "    new_list.append(minimum)\n",
    "    data_list.remove(minimum)    \n",
    "\n",
    "print(new_list)"
   ]
  },
  {
   "cell_type": "code",
   "execution_count": 3,
   "id": "05407cc1",
   "metadata": {},
   "outputs": [
    {
     "name": "stdout",
     "output_type": "stream",
     "text": [
      "2\n",
      "1\n"
     ]
    }
   ],
   "source": [
    "a=1\n",
    "b=2\n",
    "c=a\n",
    "a=b\n",
    "b=c\n",
    "print(a)\n",
    "print(b)\n"
   ]
  },
  {
   "cell_type": "markdown",
   "id": "ab88084e",
   "metadata": {},
   "source": [
    "# logic of finding the prime numbers\n"
   ]
  },
  {
   "cell_type": "code",
   "execution_count": 5,
   "id": "8f45fd27",
   "metadata": {},
   "outputs": [
    {
     "name": "stdout",
     "output_type": "stream",
     "text": [
      "3\n",
      "5\n",
      "5\n",
      "5\n",
      "7\n",
      "7\n",
      "7\n",
      "7\n",
      "7\n",
      "9\n"
     ]
    }
   ],
   "source": [
    "# Python program to display all the prime numbers within an interval\n",
    "upper = 10\n",
    "\n",
    "# print(\"Prime numbers between\", lower, \"and\", upper, \"are:\")\n",
    "\n",
    "for num in range(2, upper + 1):\n",
    "   for i in range(2, num):\n",
    "        if (num % i) == 0:\n",
    "            break\n",
    "        else:\n",
    "            print(num)"
   ]
  },
  {
   "cell_type": "code",
   "execution_count": 2,
   "id": "3d9c2322",
   "metadata": {},
   "outputs": [
    {
     "name": "stdout",
     "output_type": "stream",
     "text": [
      "1 1 3 3 5 "
     ]
    }
   ],
   "source": [
    "t='ababa'\n",
    "k=[]\n",
    "for i in range(1,len(t)+1):\n",
    "    z=t[0:i]\n",
    "    if len(z)==1:\n",
    "        print(1,end=' ')\n",
    "    else:\n",
    "        for j in range(1,len(z)+1):\n",
    "            d=z[0:j]\n",
    "            if d==d[::-1]:\n",
    "                k.append(len(d))\n",
    "        print(max(k),end=' ')\n",
    "            "
   ]
  },
  {
   "cell_type": "markdown",
   "id": "d9985566",
   "metadata": {},
   "source": [
    "# Python program to reverse a number with explanation"
   ]
  },
  {
   "cell_type": "code",
   "execution_count": 8,
   "id": "092daae3",
   "metadata": {},
   "outputs": [
    {
     "name": "stdout",
     "output_type": "stream",
     "text": [
      "6541\n"
     ]
    }
   ],
   "source": [
    "n=1456\n",
    "s=str(n)[::-1]\n",
    "int(s)\n",
    "\n",
    "n=1456\n",
    "reverse=0\n",
    "while n!=0:\n",
    "    reverse=reverse*10+n%10\n",
    "    n=n//10\n",
    "print(reverse)"
   ]
  },
  {
   "cell_type": "markdown",
   "id": "c52760db",
   "metadata": {},
   "source": [
    "# Program to check a number is Armstrong or not in python programming language"
   ]
  },
  {
   "cell_type": "code",
   "execution_count": null,
   "id": "50a14b56",
   "metadata": {},
   "outputs": [
    {
     "name": "stdout",
     "output_type": "stream",
     "text": [
      "153\n"
     ]
    }
   ],
   "source": [
    "n=int(input())\n",
    "temp=n\n",
    "b=0\n",
    "while n!=0:\n",
    "    c=temp%10\n",
    "    b=b+c**3\n",
    "    temp=temp//10\n",
    "    \n",
    "if n==b:\n",
    "    print('n is armstrong number')\n",
    "else:\n",
    "    print('n is not armstrong number')"
   ]
  },
  {
   "cell_type": "markdown",
   "id": "26b080a4",
   "metadata": {},
   "source": [
    "# Prime number program in python with explanation"
   ]
  },
  {
   "cell_type": "code",
   "execution_count": 3,
   "id": "3a10b2b3",
   "metadata": {},
   "outputs": [
    {
     "name": "stdout",
     "output_type": "stream",
     "text": [
      "13\n",
      "n is prime number\n"
     ]
    }
   ],
   "source": [
    "n=int(input())\n",
    "for i in range(2,n):\n",
    "    if n%i==0:\n",
    "        print('n is not prime number')\n",
    "else:\n",
    "        print('n is prime number')"
   ]
  },
  {
   "cell_type": "markdown",
   "id": "1bcefa25",
   "metadata": {},
   "source": [
    "# Python program to print Fibonacci series program in using Iterative methods"
   ]
  },
  {
   "cell_type": "code",
   "execution_count": 9,
   "id": "3d975a59",
   "metadata": {},
   "outputs": [
    {
     "name": "stdout",
     "output_type": "stream",
     "text": [
      "1\n",
      "1\n",
      "2\n",
      "3\n",
      "5\n",
      "8\n",
      "13\n",
      "21\n",
      "34\n"
     ]
    }
   ],
   "source": [
    "a,b=0,1\n",
    "while b<50:\n",
    "    print(b)\n",
    "    a,b = b,a+b"
   ]
  },
  {
   "cell_type": "code",
   "execution_count": 10,
   "id": "9ce227b5",
   "metadata": {},
   "outputs": [
    {
     "name": "stdout",
     "output_type": "stream",
     "text": [
      "please give a number for fibonacci series : 15\n",
      "fibonacci series are : \n",
      "0\n",
      "1\n",
      "1\n",
      "2\n",
      "3\n",
      "5\n",
      "8\n",
      "13\n",
      "21\n",
      "34\n",
      "55\n",
      "89\n",
      "144\n",
      "233\n",
      "377\n"
     ]
    }
   ],
   "source": [
    "## Understand this\n",
    "first,second=0,1\n",
    "n = int(input(\"please give a number for fibonacci series : \"))\n",
    "def fibonacci(num):\n",
    "    if num == 0:\n",
    "        return 0\n",
    "    elif num == 1:\n",
    "        return 1\n",
    "    else:\n",
    "        return fibonacci(num-1)+fibonacci(num-2)\n",
    "print(\"fibonacci series are : \")\n",
    "for i in range(0,n):\n",
    "    print(fibonacci(i))"
   ]
  },
  {
   "cell_type": "markdown",
   "id": "93336bb7",
   "metadata": {},
   "source": [
    "# Python program for palindrome using an iterative method"
   ]
  },
  {
   "cell_type": "code",
   "execution_count": 12,
   "id": "a1830d71",
   "metadata": {},
   "outputs": [
    {
     "name": "stdout",
     "output_type": "stream",
     "text": [
      "121\n",
      "n is palindrome\n"
     ]
    }
   ],
   "source": [
    "n=input()\n",
    "if n==n[::-1]:\n",
    "    print('n is palindrome')\n"
   ]
  },
  {
   "cell_type": "markdown",
   "id": "74f61cb1",
   "metadata": {},
   "source": [
    "# Program to Find the max of 3 numbers in python"
   ]
  },
  {
   "cell_type": "code",
   "execution_count": 14,
   "id": "dfe8e792",
   "metadata": {},
   "outputs": [
    {
     "name": "stdout",
     "output_type": "stream",
     "text": [
      "8\n",
      "c is the greatest\n"
     ]
    }
   ],
   "source": [
    "l=[8,5,6]\n",
    "c=0\n",
    "for i in l:\n",
    "    if c>i:\n",
    "        pass\n",
    "    else:\n",
    "        c=i\n",
    "print(c)\n",
    "\n",
    "a,b,c=8,5,9\n",
    "if a>b and a>c:\n",
    "    print('a is the greatest')\n",
    "if b>a and b>c:\n",
    "    print('b is the greatest')\n",
    "if c>a and c>b:\n",
    "    print('c is the greatest')\n"
   ]
  },
  {
   "cell_type": "code",
   "execution_count": 17,
   "id": "2e3c6df9",
   "metadata": {},
   "outputs": [
    {
     "name": "stdout",
     "output_type": "stream",
     "text": [
      "10 8\n"
     ]
    }
   ],
   "source": [
    "a=8\n",
    "b=10\n",
    "c=a\n",
    "a=b\n",
    "b=c\n",
    "print(a,b)\n"
   ]
  },
  {
   "cell_type": "markdown",
   "id": "7f77414f",
   "metadata": {},
   "source": [
    "# sum of numbers in list\n"
   ]
  },
  {
   "cell_type": "code",
   "execution_count": 20,
   "id": "dbc7e1e9",
   "metadata": {},
   "outputs": [
    {
     "name": "stdout",
     "output_type": "stream",
     "text": [
      "35\n"
     ]
    }
   ],
   "source": [
    "l=[5,6,7,8,9]\n",
    "c=0\n",
    "for i in l:\n",
    "    c=c+i\n",
    "print(c)\n"
   ]
  },
  {
   "cell_type": "markdown",
   "id": "9d31d0f7",
   "metadata": {},
   "source": [
    "# Write a program in Python to find prime factors of a given integer."
   ]
  },
  {
   "cell_type": "code",
   "execution_count": 30,
   "id": "4d3b87c0",
   "metadata": {},
   "outputs": [
    {
     "name": "stdout",
     "output_type": "stream",
     "text": [
      " Please Enter any Number: 141\n",
      " 3 is a Prime Factor of a Given Number 141\n",
      " 47 is a Prime Factor of a Given Number 141\n"
     ]
    }
   ],
   "source": [
    "Number = int(input(\" Please Enter any Number: \"))\n",
    "i = 1\n",
    "\n",
    "while(i <= Number):\n",
    "    count = 0\n",
    "    if(Number % i == 0):\n",
    "        j = 1\n",
    "        while(j <= i):\n",
    "            if(i % j == 0):\n",
    "                count = count + 1\n",
    "            j = j + 1\n",
    "            \n",
    "        if (count == 2):\n",
    "            print(\" %d is a Prime Factor of a Given Number %d\" %(i, Number))\n",
    "    i = i + 1"
   ]
  },
  {
   "cell_type": "code",
   "execution_count": 31,
   "id": "1dd25b4f",
   "metadata": {},
   "outputs": [
    {
     "name": "stdout",
     "output_type": "stream",
     "text": [
      "15\n",
      "3\n",
      "5\n"
     ]
    }
   ],
   "source": [
    "n=int(input())\n",
    "i=1\n",
    "while i<=n:\n",
    "    count=0\n",
    "    if n%i==0:\n",
    "        j=1\n",
    "        while j<=i:\n",
    "            if (i%j==0):\n",
    "                count=count+1\n",
    "            j=j+1\n",
    "        if count==2:\n",
    "            print(i)\n",
    "    i=i+1"
   ]
  },
  {
   "cell_type": "markdown",
   "id": "171af8b2",
   "metadata": {},
   "source": [
    "# program to add two numbers without using addition operator"
   ]
  },
  {
   "cell_type": "code",
   "execution_count": 40,
   "id": "4d134948",
   "metadata": {},
   "outputs": [
    {
     "name": "stdout",
     "output_type": "stream",
     "text": [
      "30\n"
     ]
    }
   ],
   "source": [
    "def addwithoutplus(x,y):\n",
    "    while y!=0:\n",
    "        s = x & y\n",
    "        x = x ^ y\n",
    "        y = s << 1\n",
    "    return x\n",
    "print(addwithoutplus(23, 7))"
   ]
  },
  {
   "cell_type": "code",
   "execution_count": 43,
   "id": "f27e83ca",
   "metadata": {},
   "outputs": [
    {
     "name": "stdout",
     "output_type": "stream",
     "text": [
      "10\n",
      "n is not perfect number\n"
     ]
    }
   ],
   "source": [
    "n=int(input())\n",
    "c=0\n",
    "for i in range(1,n):\n",
    "    if n%i==0:\n",
    "        c=c+i\n",
    "if c==n:\n",
    "    print('n is perfect number')\n",
    "else:\n",
    "    print('n is not perfect number')"
   ]
  },
  {
   "cell_type": "markdown",
   "id": "60a326b3",
   "metadata": {},
   "source": [
    "# Python program to find the average of numbers"
   ]
  },
  {
   "cell_type": "code",
   "execution_count": 45,
   "id": "7bc4fb75",
   "metadata": {},
   "outputs": [
    {
     "data": {
      "text/plain": [
       "38.25"
      ]
     },
     "execution_count": 45,
     "metadata": {},
     "output_type": "execute_result"
    }
   ],
   "source": [
    "a=[10,112,15,16]\n",
    "z=sum(a)/len(a)\n",
    "z"
   ]
  },
  {
   "cell_type": "markdown",
   "id": "f15e8612",
   "metadata": {},
   "source": [
    "# Python program to calculate the factorial using iterative approach"
   ]
  },
  {
   "cell_type": "code",
   "execution_count": 48,
   "id": "ce3f799e",
   "metadata": {},
   "outputs": [
    {
     "name": "stdout",
     "output_type": "stream",
     "text": [
      "4\n",
      "24\n"
     ]
    }
   ],
   "source": [
    "n=int(input())\n",
    "c=1\n",
    "for i in range(1,n+1):\n",
    "    c=c*i\n",
    "print(c)\n",
    "    "
   ]
  },
  {
   "cell_type": "markdown",
   "id": "75ac3aa6",
   "metadata": {},
   "source": [
    "# Factorial Program in python using recursion with explanation"
   ]
  },
  {
   "cell_type": "code",
   "execution_count": 50,
   "id": "e6f7d481",
   "metadata": {},
   "outputs": [
    {
     "data": {
      "text/plain": [
       "6"
      ]
     },
     "execution_count": 50,
     "metadata": {},
     "output_type": "execute_result"
    }
   ],
   "source": [
    "def fact(n):  \n",
    "    if n == 1:  \n",
    "        return n  \n",
    "    else:   \n",
    "        return n*fact(n-1)\n",
    "    \n",
    "fact(3)"
   ]
  },
  {
   "cell_type": "markdown",
   "id": "c0aa0184",
   "metadata": {},
   "source": [
    "# Prime Number in a given range"
   ]
  },
  {
   "cell_type": "code",
   "execution_count": 60,
   "id": "a3fb343d",
   "metadata": {},
   "outputs": [
    {
     "name": "stdout",
     "output_type": "stream",
     "text": [
      "Enter the number till you want to check: 14\n",
      "[2, 3, 5, 7, 11, 13]\n"
     ]
    }
   ],
   "source": [
    "n=int(input(\"Enter the number till you want to check: \"))\n",
    "prime = []\n",
    "for i in range (2, n+1):\n",
    "    for j in range(2, i):\n",
    "        if i%j == 0:\n",
    "            break\n",
    "    else:\n",
    "        prime.append(i)\n",
    "print(prime)"
   ]
  },
  {
   "cell_type": "markdown",
   "id": "c951680d",
   "metadata": {},
   "source": [
    "# Python program to find smallest number among three"
   ]
  },
  {
   "cell_type": "code",
   "execution_count": 61,
   "id": "5cb29a19",
   "metadata": {},
   "outputs": [
    {
     "name": "stdout",
     "output_type": "stream",
     "text": [
      "1\n"
     ]
    }
   ],
   "source": [
    "a,b,c=1,2,4\n",
    "if a<b and a<c:\n",
    "    print(a)\n",
    "if b<a and b<c:\n",
    "    print(b)\n",
    "if c<a and c<b:\n",
    "    print(c)"
   ]
  },
  {
   "cell_type": "markdown",
   "id": "6c27365b",
   "metadata": {},
   "source": [
    "# Python program to calculate the power using ‘pow()’ method"
   ]
  },
  {
   "cell_type": "code",
   "execution_count": 62,
   "id": "61ee36d7",
   "metadata": {},
   "outputs": [
    {
     "data": {
      "text/plain": [
       "64"
      ]
     },
     "execution_count": 62,
     "metadata": {},
     "output_type": "execute_result"
    }
   ],
   "source": [
    "a=4\n",
    "b=3\n",
    "pow(4,3)"
   ]
  },
  {
   "cell_type": "code",
   "execution_count": 65,
   "id": "d2dcb1a4",
   "metadata": {},
   "outputs": [
    {
     "name": "stdout",
     "output_type": "stream",
     "text": [
      "64\n"
     ]
    }
   ],
   "source": [
    "a=4\n",
    "b=3\n",
    "c=1\n",
    "for i in range(1,b+1):\n",
    "    c=c*a\n",
    "print(c)"
   ]
  },
  {
   "cell_type": "markdown",
   "id": "103ec536",
   "metadata": {},
   "source": [
    "# Python program to find l.c.m. of two numbers"
   ]
  },
  {
   "cell_type": "code",
   "execution_count": 66,
   "id": "e49e2152",
   "metadata": {},
   "outputs": [
    {
     "name": "stdout",
     "output_type": "stream",
     "text": [
      "Enter first number: 4\n",
      "Enter second number: 3\n",
      "LCM of 4 and 3 = 12\n"
     ]
    }
   ],
   "source": [
    "num1 = int(input(\"Enter first number: \"))  \n",
    "num2 = int(input(\"Enter second number: \"))  \n",
    "if num1 > num2:  \n",
    "    greater = num1  \n",
    "else:  \n",
    "    greater = num2  \n",
    "while(True):  \n",
    "    if((greater % num1 == 0) and (greater % num2 == 0)):  \n",
    "        lcm = greater  \n",
    "        break  \n",
    "    greater += 1  \n",
    "print(\"LCM of\",num1,\"and\",num2,\"=\",greater)"
   ]
  },
  {
   "cell_type": "markdown",
   "id": "7a5a4c75",
   "metadata": {},
   "source": [
    "# Python program to find h.c.f. of two numbers using iteration"
   ]
  },
  {
   "cell_type": "code",
   "execution_count": 67,
   "id": "a0ce9867",
   "metadata": {},
   "outputs": [
    {
     "name": "stdout",
     "output_type": "stream",
     "text": [
      "Enter first number: 12\n",
      "Enter second number: 24\n",
      "12\n"
     ]
    }
   ],
   "source": [
    "num1 = int(input(\"Enter first number: \"))  \n",
    "num2 = int(input(\"Enter second number: \"))\n",
    "if num1 > num2:  \n",
    "    factor = num2\n",
    "else:  \n",
    "    factor = num1\n",
    "    \n",
    "while(True):\n",
    "    if((num1 % factor == 0) and (num2 % factor == 0)):\n",
    "        hcf=factor\n",
    "        break\n",
    "        factor=-1\n",
    "print(hcf)\n"
   ]
  },
  {
   "cell_type": "code",
   "execution_count": 68,
   "id": "b6bf9cf7",
   "metadata": {},
   "outputs": [
    {
     "data": {
      "text/plain": [
       "'0b1100'"
      ]
     },
     "execution_count": 68,
     "metadata": {},
     "output_type": "execute_result"
    }
   ],
   "source": [
    "bin(12)"
   ]
  },
  {
   "cell_type": "code",
   "execution_count": 69,
   "id": "71cc4da2",
   "metadata": {},
   "outputs": [
    {
     "data": {
      "text/plain": [
       "'0o14'"
      ]
     },
     "execution_count": 69,
     "metadata": {},
     "output_type": "execute_result"
    }
   ],
   "source": [
    "oct(12\n",
    "   )"
   ]
  },
  {
   "cell_type": "code",
   "execution_count": 71,
   "id": "a6a54721",
   "metadata": {},
   "outputs": [
    {
     "data": {
      "text/plain": [
       "135.2"
      ]
     },
     "execution_count": 71,
     "metadata": {},
     "output_type": "execute_result"
    }
   ],
   "source": [
    "#celsius to farehnite\n",
    "a=4\n",
    "b=4*33.8\n",
    "b"
   ]
  },
  {
   "cell_type": "code",
   "execution_count": 74,
   "id": "a8d9853a",
   "metadata": {},
   "outputs": [
    {
     "data": {
      "text/plain": [
       "-15.555555555555555"
      ]
     },
     "execution_count": 74,
     "metadata": {},
     "output_type": "execute_result"
    }
   ],
   "source": [
    "#farehnite to celsius\n",
    "a=4\n",
    "b=((a-32)*5)/9\n",
    "b\n",
    "\n"
   ]
  },
  {
   "cell_type": "code",
   "execution_count": 77,
   "id": "dd70a262",
   "metadata": {},
   "outputs": [
    {
     "name": "stdout",
     "output_type": "stream",
     "text": [
      "Enter a String : hi i am shubhangi\n",
      "Enter a Character : b\n",
      "String after removing space with t =  hibibambshubhangi\n"
     ]
    }
   ],
   "source": [
    "string = input(\"Enter a String : \")\n",
    "result = ''  #empty string\n",
    "ch = input(\"Enter a Character : \")\n",
    "for i in string:  #iterating using for loop\n",
    "        if i == ' ':  #if any space found in the string\n",
    "            i = ch   #replacing space with character\n",
    "        result += i   #concatenating each character of the string without space\n",
    "print('String after removing space with t = ',result)"
   ]
  },
  {
   "cell_type": "code",
   "execution_count": 4,
   "id": "b257c9de",
   "metadata": {},
   "outputs": [
    {
     "data": {
      "text/plain": [
       "'shuhangi'"
      ]
     },
     "execution_count": 4,
     "metadata": {},
     "output_type": "execute_result"
    }
   ],
   "source": [
    "## Python program to remove character from string\n",
    "s='shubhangi' # remove b\n",
    "s[0:3]+s[4:]\n"
   ]
  },
  {
   "cell_type": "code",
   "execution_count": 5,
   "id": "0d2c5a13",
   "metadata": {},
   "outputs": [
    {
     "name": "stdout",
     "output_type": "stream",
     "text": [
      "please enter a string : shubhangi\n",
      "please enter a character : b\n",
      "shu hangi\n"
     ]
    }
   ],
   "source": [
    "str = input(\"please enter a string : \")\n",
    "ch = input(\"please enter a character : \")\n",
    "print(str.replace(ch,\" \")) "
   ]
  },
  {
   "cell_type": "code",
   "execution_count": 12,
   "id": "f714943b",
   "metadata": {},
   "outputs": [
    {
     "data": {
      "text/plain": [
       "{'s': 1, 'h': 2, 'u': 1, 'b': 1, 'a': 1, 'n': 1, 'g': 1, 'i': 1}"
      ]
     },
     "execution_count": 12,
     "metadata": {},
     "output_type": "execute_result"
    }
   ],
   "source": [
    "## Python Program to count occurrence of characters in string\n",
    "\n",
    "s='shubhangi'\n",
    "d={}\n",
    "for i in s:\n",
    "    if i in d:\n",
    "        d[i]+=1\n",
    "    else:\n",
    "        d[i]=1\n",
    "        \n",
    "d"
   ]
  },
  {
   "cell_type": "code",
   "execution_count": 9,
   "id": "a1f0ae85",
   "metadata": {},
   "outputs": [
    {
     "name": "stdout",
     "output_type": "stream",
     "text": [
      "{'s': 1, 'h': 2, 'u': 1, 'b': 1, 'a': 1, 'n': 1, 'g': 1, 'i': 1}\n"
     ]
    }
   ],
   "source": [
    "s='shubhangi'\n",
    "#output = {1:3,2:3,3:1,4:1}\n",
    "\n",
    "result = {}\n",
    "\n",
    "for i in s:\n",
    "    if i in result:\n",
    "        result[i]+=1\n",
    "    else:\n",
    "        result[i]=1\n",
    "        \n",
    "print(result)"
   ]
  },
  {
   "cell_type": "code",
   "execution_count": 31,
   "id": "82f78394",
   "metadata": {},
   "outputs": [
    {
     "name": "stdout",
     "output_type": "stream",
     "text": [
      "Please enter String 1 : aai\n",
      "Please enter String 2 : aaii\n",
      "Not an anagram\n"
     ]
    }
   ],
   "source": [
    "## Anagram Program in Python\n",
    "\n",
    "def anagramCheck(str1, str2):\n",
    "    if (sorted(str1) == sorted(str2)) :  \n",
    "\t    return True \n",
    "    else :  \n",
    "\t    return False \n",
    "    \n",
    "str1 = input(\"Please enter String 1 : \")\n",
    "str2 = input(\"Please enter String 2 : \")\n",
    "if anagramCheck(str1,str2):\n",
    "    print(\"Anagram\")\n",
    "else:\n",
    "    print(\"Not an anagram\")"
   ]
  },
  {
   "cell_type": "code",
   "execution_count": 32,
   "id": "ae894573",
   "metadata": {},
   "outputs": [
    {
     "data": {
      "text/plain": [
       "['a', 'a', 'o', 'o']"
      ]
     },
     "execution_count": 32,
     "metadata": {},
     "output_type": "execute_result"
    }
   ],
   "source": [
    "a='aaoo'\n",
    "sorted(a)\n",
    "b=''"
   ]
  },
  {
   "cell_type": "code",
   "execution_count": 34,
   "id": "486bb8cc",
   "metadata": {},
   "outputs": [
    {
     "data": {
      "text/plain": [
       "False"
      ]
     },
     "execution_count": 34,
     "metadata": {},
     "output_type": "execute_result"
    }
   ],
   "source": [
    "# Python program to check given input is digit or not\n",
    "\n",
    "a='b23'\n",
    "a.isdigit()"
   ]
  },
  {
   "cell_type": "code",
   "execution_count": 38,
   "id": "1b0487cb",
   "metadata": {},
   "outputs": [
    {
     "data": {
      "text/plain": [
       "'mysnamesissshubhangi'"
      ]
     },
     "execution_count": 38,
     "metadata": {},
     "output_type": "execute_result"
    }
   ],
   "source": [
    "# Replace string space with given character in Python\n",
    "a='my name is shubhangi'\n",
    "r=''\n",
    "c='s'\n",
    "for i in a:\n",
    "    if i==' ':\n",
    "        i=c\n",
    "        r+=i\n",
    "    else:\n",
    "        r+=i\n",
    "r\n",
    "    "
   ]
  },
  {
   "cell_type": "code",
   "execution_count": 51,
   "id": "c03d68dc",
   "metadata": {},
   "outputs": [
    {
     "data": {
      "text/plain": [
       "'mycnameciscshubhangi'"
      ]
     },
     "execution_count": 51,
     "metadata": {},
     "output_type": "execute_result"
    }
   ],
   "source": [
    "# Replace string space with given character in Python\n",
    "\n",
    "a='my name is shubhangi'\n",
    "a.replace(' ','c')"
   ]
  },
  {
   "cell_type": "code",
   "execution_count": 8,
   "id": "eba4c177",
   "metadata": {},
   "outputs": [
    {
     "data": {
      "text/plain": [
       "'MY NAME IS SHUBHANGI'"
      ]
     },
     "execution_count": 8,
     "metadata": {},
     "output_type": "execute_result"
    }
   ],
   "source": [
    "# Python Program to Convert lowercase to uppercase character\n",
    "s='My name is Shubhangi'\n",
    "r=''\n",
    "for i in s:\n",
    "    if i.islower():\n",
    "        c=i.upper()\n",
    "        r+=c\n",
    "    else:\n",
    "        r+=i\n",
    "r        "
   ]
  },
  {
   "cell_type": "code",
   "execution_count": 10,
   "id": "dda5a7d3",
   "metadata": {},
   "outputs": [
    {
     "name": "stdout",
     "output_type": "stream",
     "text": [
      "shubhnagi\n"
     ]
    },
    {
     "data": {
      "text/plain": [
       "'shUbhnAgI'"
      ]
     },
     "execution_count": 10,
     "metadata": {},
     "output_type": "execute_result"
    }
   ],
   "source": [
    "# program to convert lowercase vowel to uppercase in string\n",
    "\n",
    "s=input()\n",
    "v='aeiou'\n",
    "r=''\n",
    "for i in s:\n",
    "    if i in v:\n",
    "        if i.islower():\n",
    "            i=i.upper()\n",
    "            r+=i\n",
    "        else:\n",
    "            r+=i\n",
    "    else:\n",
    "        r+=i\n",
    "r"
   ]
  },
  {
   "cell_type": "code",
   "execution_count": 13,
   "id": "2d5b7112",
   "metadata": {},
   "outputs": [
    {
     "name": "stdout",
     "output_type": "stream",
     "text": [
      "shubhnagi\n"
     ]
    },
    {
     "data": {
      "text/plain": [
       "'shbhng'"
      ]
     },
     "execution_count": 13,
     "metadata": {},
     "output_type": "execute_result"
    }
   ],
   "source": [
    "# Python program to remove vowels from the string\n",
    "\n",
    "s=input()\n",
    "v='aeiou'\n",
    "r=''\n",
    "for i in s:\n",
    "    if i in v:\n",
    "        pass\n",
    "    else:\n",
    "        r+=i\n",
    "    \n",
    "r\n"
   ]
  },
  {
   "cell_type": "code",
   "execution_count": 19,
   "id": "0628df94",
   "metadata": {},
   "outputs": [
    {
     "name": "stdout",
     "output_type": "stream",
     "text": [
      "shubhangi\n",
      "3\n",
      "6\n"
     ]
    }
   ],
   "source": [
    "# Python program to count vowels and consonants in the string\n",
    "s=input()\n",
    "v='aeiou'\n",
    "cv=0\n",
    "cc=0\n",
    "for i in s:\n",
    "    if i in v:\n",
    "        cv+=1\n",
    "    else:\n",
    "        cc+=1\n",
    "print(cv)\n",
    "print(cc)\n",
    "\n"
   ]
  },
  {
   "cell_type": "code",
   "execution_count": null,
   "id": "81de6a33",
   "metadata": {},
   "outputs": [],
   "source": [
    "https://www.linkedin.com/in/pranav-pankaj-jaipurkar/"
   ]
  },
  {
   "cell_type": "code",
   "execution_count": 21,
   "id": "61705378",
   "metadata": {},
   "outputs": [
    {
     "data": {
      "text/plain": [
       "2"
      ]
     },
     "execution_count": 21,
     "metadata": {},
     "output_type": "execute_result"
    }
   ],
   "source": [
    "# Program to find heighest freuency character in string\n",
    "s='shubhangi'\n",
    "d={}\n",
    "for i in s:\n",
    "    if i in d:\n",
    "        d[i]+=1\n",
    "    else:\n",
    "        d[i]=1\n",
    "max(d.values())\n",
    "        "
   ]
  },
  {
   "cell_type": "code",
   "execution_count": 2,
   "id": "6d263fde",
   "metadata": {},
   "outputs": [
    {
     "data": {
      "text/plain": [
       "'sh-bhangi'"
      ]
     },
     "execution_count": 2,
     "metadata": {},
     "output_type": "execute_result"
    }
   ],
   "source": [
    "# python program to replace first vowel with '-'\n",
    "\n",
    "s='shubhangi'\n",
    "v='aeiou'\n",
    "for _ in s:\n",
    "    if _ in v:\n",
    "        c=s.replace(_,'-')\n",
    "        break\n",
    "    else:\n",
    "        pass\n",
    "c"
   ]
  },
  {
   "cell_type": "code",
   "execution_count": 3,
   "id": "1c086c4c",
   "metadata": {},
   "outputs": [
    {
     "name": "stdout",
     "output_type": "stream",
     "text": [
      "s h u b h a n g i "
     ]
    }
   ],
   "source": [
    "s='shubhangi'\n",
    "for _ in s:\n",
    "    print(_,end=' ')"
   ]
  },
  {
   "cell_type": "code",
   "execution_count": 2,
   "id": "a23f3d69",
   "metadata": {},
   "outputs": [
    {
     "data": {
      "text/plain": [
       "'shubhangi pawar'"
      ]
     },
     "execution_count": 2,
     "metadata": {},
     "output_type": "execute_result"
    }
   ],
   "source": [
    "# Python program to concatenate String using join() method\n",
    "s='shubhangi'\n",
    "v='pawar'\n",
    "' '.join([s,v])\n"
   ]
  },
  {
   "cell_type": "code",
   "execution_count": 4,
   "id": "55679f24",
   "metadata": {},
   "outputs": [
    {
     "data": {
      "text/plain": [
       "'shubangi'"
      ]
     },
     "execution_count": 4,
     "metadata": {},
     "output_type": "execute_result"
    }
   ],
   "source": [
    "# program to remove repeated character in string\n",
    "\n",
    "s='shubhangi'\n",
    "r=''\n",
    "for _ in s:\n",
    "    if _ not in r:\n",
    "        r+=_\n",
    "    else:\n",
    "        pass\n",
    "r\n",
    "\n"
   ]
  },
  {
   "cell_type": "code",
   "execution_count": 6,
   "id": "477a70cb",
   "metadata": {},
   "outputs": [
    {
     "data": {
      "text/plain": [
       "'abghhinsu'"
      ]
     },
     "execution_count": 6,
     "metadata": {},
     "output_type": "execute_result"
    }
   ],
   "source": [
    "# Python program to sort string character in ascending order\n",
    "\n",
    "s='shubhangi'\n",
    "''.join(sorted(s))\n",
    "\n"
   ]
  },
  {
   "cell_type": "code",
   "execution_count": 6,
   "id": "69c8e31d",
   "metadata": {},
   "outputs": [
    {
     "ename": "NameError",
     "evalue": "name 'arg' is not defined",
     "output_type": "error",
     "traceback": [
      "\u001b[1;31m---------------------------------------------------------------------------\u001b[0m",
      "\u001b[1;31mNameError\u001b[0m                                 Traceback (most recent call last)",
      "\u001b[1;32m<ipython-input-6-cebc6495ad3e>\u001b[0m in \u001b[0;36m<module>\u001b[1;34m\u001b[0m\n\u001b[0;32m      4\u001b[0m \u001b[1;33m\u001b[0m\u001b[0m\n\u001b[0;32m      5\u001b[0m \u001b[0margv\u001b[0m\u001b[1;33m=\u001b[0m\u001b[1;33m(\u001b[0m\u001b[1;34m'Hello'\u001b[0m\u001b[1;33m,\u001b[0m \u001b[1;34m'Welcome'\u001b[0m\u001b[1;33m,\u001b[0m \u001b[1;34m'to'\u001b[0m\u001b[1;33m,\u001b[0m \u001b[1;34m'GeeksforGeeks'\u001b[0m\u001b[1;33m)\u001b[0m\u001b[1;33m\u001b[0m\u001b[1;33m\u001b[0m\u001b[0m\n\u001b[1;32m----> 6\u001b[1;33m \u001b[0mmyFun\u001b[0m\u001b[1;33m(\u001b[0m\u001b[1;33m*\u001b[0m\u001b[0margv\u001b[0m\u001b[1;33m)\u001b[0m\u001b[1;33m\u001b[0m\u001b[1;33m\u001b[0m\u001b[0m\n\u001b[0m",
      "\u001b[1;32m<ipython-input-6-cebc6495ad3e>\u001b[0m in \u001b[0;36mmyFun\u001b[1;34m(*argv)\u001b[0m\n\u001b[0;32m      1\u001b[0m \u001b[1;32mdef\u001b[0m \u001b[0mmyFun\u001b[0m\u001b[1;33m(\u001b[0m\u001b[1;33m*\u001b[0m\u001b[0margv\u001b[0m\u001b[1;33m)\u001b[0m\u001b[1;33m:\u001b[0m\u001b[1;33m\u001b[0m\u001b[1;33m\u001b[0m\u001b[0m\n\u001b[1;32m----> 2\u001b[1;33m         \u001b[0mprint\u001b[0m\u001b[1;33m(\u001b[0m\u001b[0marg\u001b[0m\u001b[1;33m)\u001b[0m\u001b[1;33m\u001b[0m\u001b[1;33m\u001b[0m\u001b[0m\n\u001b[0m\u001b[0;32m      3\u001b[0m \u001b[1;33m\u001b[0m\u001b[0m\n\u001b[0;32m      4\u001b[0m \u001b[1;33m\u001b[0m\u001b[0m\n\u001b[0;32m      5\u001b[0m \u001b[0margv\u001b[0m\u001b[1;33m=\u001b[0m\u001b[1;33m(\u001b[0m\u001b[1;34m'Hello'\u001b[0m\u001b[1;33m,\u001b[0m \u001b[1;34m'Welcome'\u001b[0m\u001b[1;33m,\u001b[0m \u001b[1;34m'to'\u001b[0m\u001b[1;33m,\u001b[0m \u001b[1;34m'GeeksforGeeks'\u001b[0m\u001b[1;33m)\u001b[0m\u001b[1;33m\u001b[0m\u001b[1;33m\u001b[0m\u001b[0m\n",
      "\u001b[1;31mNameError\u001b[0m: name 'arg' is not defined"
     ]
    }
   ],
   "source": [
    "def myFun(*argv):\n",
    "        print(arg)\n",
    " \n",
    " \n",
    "argv=('Hello', 'Welcome', 'to', 'GeeksforGeeks')\n",
    "myFun(*argv)"
   ]
  },
  {
   "cell_type": "code",
   "execution_count": 15,
   "id": "1c259443",
   "metadata": {},
   "outputs": [
    {
     "name": "stdout",
     "output_type": "stream",
     "text": [
      "15\n"
     ]
    }
   ],
   "source": [
    "def outerFun(a, b):\n",
    "    def innerFun(c, d):\n",
    "        return c + d\n",
    "    return innerFun(a, b)\n",
    "    return a\n",
    "\n",
    "result = outerFun(5, 10)\n",
    "print(result)"
   ]
  },
  {
   "cell_type": "code",
   "execution_count": 21,
   "id": "ea1faf33",
   "metadata": {},
   "outputs": [
    {
     "data": {
      "text/plain": [
       "[8, 5, 9, 4]"
      ]
     },
     "execution_count": 21,
     "metadata": {},
     "output_type": "execute_result"
    }
   ],
   "source": [
    "x=[8,5,9,4]\n",
    "sorted(x)\n",
    "x"
   ]
  },
  {
   "cell_type": "code",
   "execution_count": 22,
   "id": "b8268939",
   "metadata": {},
   "outputs": [
    {
     "name": "stdout",
     "output_type": "stream",
     "text": [
      "ab\n",
      "cd\n"
     ]
    }
   ],
   "source": [
    "x = ['ab', 'cd']\n",
    "for i in x:\n",
    "    i.upper()\n",
    "    print(i)\n"
   ]
  },
  {
   "cell_type": "code",
   "execution_count": 31,
   "id": "6d63d085",
   "metadata": {},
   "outputs": [
    {
     "name": "stdout",
     "output_type": "stream",
     "text": [
      "None\n"
     ]
    }
   ],
   "source": [
    "class test:\n",
    "\n",
    "    def __init__(self):\n",
    "\n",
    "        self.variable = 'New'\n",
    "\n",
    "        self.Change(self.variable)\n",
    "\n",
    "    def Change(self, var):\n",
    "\n",
    "        var = 'Old'\n",
    "\n",
    "obj=test()\n",
    "\n",
    "print(obj.Change('New'))\n"
   ]
  },
  {
   "cell_type": "code",
   "execution_count": 35,
   "id": "52745dc0",
   "metadata": {},
   "outputs": [
    {
     "name": "stdout",
     "output_type": "stream",
     "text": [
      "success\n"
     ]
    }
   ],
   "source": [
    "def convi(s):\n",
    "    try:\n",
    "        num=int(s)\n",
    "        print('success')\n",
    "    except:\n",
    "        print('Failed')\n",
    "        num=-1\n",
    "l=1\n",
    "convi(l)"
   ]
  },
  {
   "cell_type": "code",
   "execution_count": null,
   "id": "14068430",
   "metadata": {},
   "outputs": [],
   "source": []
  }
 ],
 "metadata": {
  "kernelspec": {
   "display_name": "Python 3",
   "language": "python",
   "name": "python3"
  },
  "language_info": {
   "codemirror_mode": {
    "name": "ipython",
    "version": 3
   },
   "file_extension": ".py",
   "mimetype": "text/x-python",
   "name": "python",
   "nbconvert_exporter": "python",
   "pygments_lexer": "ipython3",
   "version": "3.8.8"
  }
 },
 "nbformat": 4,
 "nbformat_minor": 5
}
